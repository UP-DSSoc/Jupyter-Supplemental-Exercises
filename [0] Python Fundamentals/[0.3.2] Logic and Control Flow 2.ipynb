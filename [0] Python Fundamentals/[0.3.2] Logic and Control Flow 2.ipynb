{
 "cells": [
  {
   "cell_type": "code",
   "execution_count": null,
   "id": "moral-flower",
   "metadata": {
    "id": "moral-flower",
    "outputId": "eb7dc605-a25e-4919-d811-8d030cda99c0"
   },
   "outputs": [
    {
     "name": "stdout",
     "output_type": "stream",
     "text": [
      "Python 3.9.1\n"
     ]
    }
   ],
   "source": [
    "!python --version"
   ]
  },
  {
   "cell_type": "markdown",
   "id": "helpful-terminal",
   "metadata": {
    "id": "helpful-terminal"
   },
   "source": [
    "<img src=\"UP Data Science Society Logo 2.png\" width=700 />"
   ]
  },
  {
   "cell_type": "code",
   "execution_count": null,
   "id": "jkBUfgP7YGZt",
   "metadata": {
    "id": "jkBUfgP7YGZt"
   },
   "outputs": [],
   "source": []
  },
  {
   "cell_type": "markdown",
   "id": "driving-breakdown",
   "metadata": {
    "id": "driving-breakdown"
   },
   "source": [
    "### [0] Introduction to Python\n",
    "**Prepared by:**\n",
    "\n",
    "- Lanz Lagman\n",
    "- Dexter To\n",
    "\n",
    "**Topics to cover:** \n",
    "\n",
    "- Loops\n",
    "\n",
    "**Weekly Objectives:**\n",
    "\n",
    "- \n",
    "\n",
    "\n",
    "**References:**\n",
    "- [Johnson, MIT Course 18.335 - Square Roots via Newton’s Method](https://math.mit.edu/~stevenj/18.335/newton-sqrt.pdf)\n",
    "- [Jake Vanderplas - Statistics for Hackers - PyCon 2016](https://www.youtube.com/watch?v=Iq9DzN6mvYA)\n",
    "    - [[Speaker Deck] Jake Vanderplas - Statistics for Hackers](https://speakerdeck.com/pycon2016/jake-vanderplas-statistics-for-hackers)"
   ]
  },
  {
   "cell_type": "code",
   "execution_count": null,
   "id": "individual-league",
   "metadata": {
    "id": "individual-league"
   },
   "outputs": [],
   "source": [
    "import numpy as np\n",
    "import pandas as pd\n",
    "import matplotlib.pyplot as plt"
   ]
  },
  {
   "cell_type": "markdown",
   "id": "cosmetic-ranking",
   "metadata": {
    "id": "cosmetic-ranking"
   },
   "source": [
    "# I. Loops\n",
    "\n",
    "> \"If you can write a for-loop, you can do statistics.\"  \n",
    "> Jake Vanderplas   "
   ]
  },
  {
   "cell_type": "markdown",
   "id": "demonstrated-receptor",
   "metadata": {
    "id": "demonstrated-receptor"
   },
   "source": [
    "## A. `for` loops\n",
    "\n",
    "- `for` loops iterate over each element of a sequential data type."
   ]
  },
  {
   "cell_type": "markdown",
   "id": "sunrise-leisure",
   "metadata": {
    "id": "sunrise-leisure"
   },
   "source": [
    "### 1. Basic Examples\n",
    "\n",
    "- To iterate and print each element of `range(4)`:"
   ]
  },
  {
   "cell_type": "code",
   "execution_count": null,
   "id": "departmental-mumbai",
   "metadata": {
    "id": "departmental-mumbai",
    "outputId": "9ad4c4fa-5d42-4df9-9f24-6168b4ec5334"
   },
   "outputs": [
    {
     "name": "stdout",
     "output_type": "stream",
     "text": [
      "0\n",
      "1\n",
      "2\n",
      "3\n"
     ]
    }
   ],
   "source": [
    "for i in range(4): \n",
    "    print(i)"
   ]
  },
  {
   "cell_type": "code",
   "execution_count": null,
   "id": "incorrect-function",
   "metadata": {
    "id": "incorrect-function",
    "outputId": "f93d9817-9180-4dc0-a18a-1b0429bf5ef8"
   },
   "outputs": [
    {
     "name": "stdout",
     "output_type": "stream",
     "text": [
      "0\n",
      "1\n",
      "2\n",
      "3\n"
     ]
    }
   ],
   "source": [
    "for i in range(4): print(i)"
   ]
  },
  {
   "cell_type": "markdown",
   "id": "endless-column",
   "metadata": {
    "id": "endless-column"
   },
   "source": [
    "- To create a list and 1D numpy array:"
   ]
  },
  {
   "cell_type": "code",
   "execution_count": null,
   "id": "wound-angle",
   "metadata": {
    "id": "wound-angle",
    "outputId": "b74e8a98-8e0a-4bc6-88c3-bced27351630"
   },
   "outputs": [
    {
     "data": {
      "text/plain": [
       "[0, 1, 2, 3]"
      ]
     },
     "execution_count": 5,
     "metadata": {},
     "output_type": "execute_result"
    }
   ],
   "source": [
    "[i for i in range(4)]"
   ]
  },
  {
   "cell_type": "code",
   "execution_count": null,
   "id": "accomplished-needle",
   "metadata": {
    "id": "accomplished-needle",
    "outputId": "4fdef159-f632-4de2-9d85-de8d34e0fb28"
   },
   "outputs": [
    {
     "data": {
      "text/plain": [
       "array([0, 1, 2, 3])"
      ]
     },
     "execution_count": 6,
     "metadata": {},
     "output_type": "execute_result"
    }
   ],
   "source": [
    "np.array([i for i in range(4)])"
   ]
  },
  {
   "cell_type": "markdown",
   "id": "secure-stewart",
   "metadata": {
    "id": "secure-stewart"
   },
   "source": [
    "### 2. `zip()`\n",
    "\n",
    "- The `zip()` function takes in n-iterables of equal length then returns an iterator.\n",
    "- Let's create two lists for latin letters and their greek equivalent, expressed via unicode."
   ]
  },
  {
   "cell_type": "code",
   "execution_count": null,
   "id": "frank-desktop",
   "metadata": {
    "id": "frank-desktop",
    "outputId": "e089567c-ff95-4d71-d6ff-47be1e299958"
   },
   "outputs": [
    {
     "data": {
      "text/plain": [
       "['α', 'β', 'γ', 'δ']"
      ]
     },
     "execution_count": 7,
     "metadata": {},
     "output_type": "execute_result"
    }
   ],
   "source": [
    "latin_list = ['a', 'b', 'c', 'd']\n",
    "greek_list = [u'\\u03B1', u'\\u03B2', u'\\u03B3', u'\\u03B4']\n",
    "greek_list"
   ]
  },
  {
   "cell_type": "markdown",
   "id": "mighty-vertical",
   "metadata": {
    "id": "mighty-vertical"
   },
   "source": [
    "- Creating lists out of zipped items returns a series of tuples for each matching element."
   ]
  },
  {
   "cell_type": "code",
   "execution_count": null,
   "id": "brilliant-headset",
   "metadata": {
    "id": "brilliant-headset",
    "outputId": "f3d8f134-084c-4cd4-bf96-8892702ea34e"
   },
   "outputs": [
    {
     "data": {
      "text/plain": [
       "[('a', 'α'), ('b', 'β'), ('c', 'γ'), ('d', 'δ')]"
      ]
     },
     "execution_count": 8,
     "metadata": {},
     "output_type": "execute_result"
    }
   ],
   "source": [
    "list(zip(latin_list,greek_list))"
   ]
  },
  {
   "cell_type": "markdown",
   "id": "amber-baseball",
   "metadata": {
    "id": "amber-baseball"
   },
   "source": [
    "- To use in for loops:"
   ]
  },
  {
   "cell_type": "code",
   "execution_count": null,
   "id": "tested-persian",
   "metadata": {
    "id": "tested-persian",
    "outputId": "dfaa6a3f-681b-4cef-8414-d2cdf3bd8152"
   },
   "outputs": [
    {
     "name": "stdout",
     "output_type": "stream",
     "text": [
      "Latin: a, Greek: α\n",
      "Latin: b, Greek: β\n",
      "Latin: c, Greek: γ\n",
      "Latin: d, Greek: δ\n"
     ]
    }
   ],
   "source": [
    "for l, g in zip(latin_list,greek_list):\n",
    "    print(f\"Latin: {l}, Greek: {g}\")"
   ]
  },
  {
   "cell_type": "markdown",
   "id": "transsexual-buying",
   "metadata": {
    "id": "transsexual-buying"
   },
   "source": [
    "- In terms of `enumerate()`:"
   ]
  },
  {
   "cell_type": "code",
   "execution_count": null,
   "id": "excess-overview",
   "metadata": {
    "id": "excess-overview",
    "outputId": "9acf5ef7-f929-4c41-aaa4-689daa199c68"
   },
   "outputs": [
    {
     "name": "stdout",
     "output_type": "stream",
     "text": [
      "0 a\n",
      "1 b\n",
      "2 c\n",
      "3 d\n"
     ]
    }
   ],
   "source": [
    "for ind, l in enumerate(latin_list):\n",
    "    print(ind, l)"
   ]
  },
  {
   "cell_type": "markdown",
   "id": "blocked-transmission",
   "metadata": {
    "id": "blocked-transmission"
   },
   "source": [
    "- This is the equivalent `zip()` version:\n",
    "- Note that `enumerate()` can only take a single iterable, unlike `zip()`.\n",
    "- That is why, I prefer `zip()` instead of `enumerate()`, not only because of the much shorter character length, but also due to overall flexibility."
   ]
  },
  {
   "cell_type": "code",
   "execution_count": null,
   "id": "incoming-proceeding",
   "metadata": {
    "id": "incoming-proceeding",
    "outputId": "30ab15dc-fac7-4964-f3b2-c2f136d63b6a"
   },
   "outputs": [
    {
     "name": "stdout",
     "output_type": "stream",
     "text": [
      "0 a\n",
      "1 b\n",
      "2 c\n",
      "3 d\n"
     ]
    }
   ],
   "source": [
    "for ind, l in zip(range(len(latin_list)),latin_list):\n",
    "    print(ind, l)"
   ]
  },
  {
   "cell_type": "markdown",
   "id": "original-bracket",
   "metadata": {
    "id": "original-bracket"
   },
   "source": [
    "### 3. `zip()` for plotting\n",
    "\n",
    "- To iterate over each subplots, let's say we want to plot $x, x^2, x^3, x^4$:"
   ]
  },
  {
   "cell_type": "code",
   "execution_count": null,
   "id": "least-extreme",
   "metadata": {
    "id": "least-extreme",
    "outputId": "69b9a97f-4592-4699-a0e9-df0a1a9f18dd"
   },
   "outputs": [
    {
     "data": {
      "text/plain": [
       "array([  0,   1,   2,   3,   4,   5,   6,   7,   8,   9,  10,  11,  12,\n",
       "        13,  14,  15,  16,  17,  18,  19,  20,  21,  22,  23,  24,  25,\n",
       "        26,  27,  28,  29,  30,  31,  32,  33,  34,  35,  36,  37,  38,\n",
       "        39,  40,  41,  42,  43,  44,  45,  46,  47,  48,  49,  50,  51,\n",
       "        52,  53,  54,  55,  56,  57,  58,  59,  60,  61,  62,  63,  64,\n",
       "        65,  66,  67,  68,  69,  70,  71,  72,  73,  74,  75,  76,  77,\n",
       "        78,  79,  80,  81,  82,  83,  84,  85,  86,  87,  88,  89,  90,\n",
       "        91,  92,  93,  94,  95,  96,  97,  98,  99, 100])"
      ]
     },
     "execution_count": 12,
     "metadata": {},
     "output_type": "execute_result"
    }
   ],
   "source": [
    "x = np.arange(0,101,1)\n",
    "x"
   ]
  },
  {
   "cell_type": "code",
   "execution_count": null,
   "id": "pretty-friday",
   "metadata": {
    "id": "pretty-friday",
    "outputId": "0274365d-00e4-47fe-a9aa-73dabfc57aa8"
   },
   "outputs": [
    {
     "data": {
      "text/plain": [
       "[<matplotlib.lines.Line2D at 0x284cf04fa60>]"
      ]
     },
     "execution_count": 13,
     "metadata": {},
     "output_type": "execute_result"
    },
    {
     "data": {
      "image/png": "[encoded data removed]",
      "text/plain": [
       "<Figure size 720x720 with 4 Axes>"
      ]
     },
     "metadata": {
      "needs_background": "light"
     },
     "output_type": "display_data"
    }
   ],
   "source": [
    "fig, ax = plt.subplots(2,2, figsize=(10,10))\n",
    "\n",
    "x = np.arange(0,101,1)\n",
    "\n",
    "ax[0,0].plot(x, x)\n",
    "ax[0,1].plot(x, x**2)\n",
    "ax[1,0].plot(x, x**3)\n",
    "ax[1,1].plot(x, x**4)\n"
   ]
  },
  {
   "cell_type": "markdown",
   "id": "sublime-american",
   "metadata": {
    "id": "sublime-american"
   },
   "source": [
    "- But we want to perform a standard customization for each subplot, like removing the top and right border line and adding  x and y-labels. This could be done through:"
   ]
  },
  {
   "cell_type": "code",
   "execution_count": null,
   "id": "false-console",
   "metadata": {
    "id": "false-console",
    "outputId": "a17f524f-58c6-4173-db91-28f7994c318a"
   },
   "outputs": [
    {
     "data": {
      "image/png": "[encoded data removed]",
      "text/plain": [
       "<Figure size 720x720 with 4 Axes>"
      ]
     },
     "metadata": {
      "needs_background": "light"
     },
     "output_type": "display_data"
    }
   ],
   "source": [
    "fig, ax = plt.subplots(2,2, figsize=(10,10))\n",
    "\n",
    "x = np.arange(0,101,1)\n",
    "\n",
    "ax[0,0].plot(x, x)\n",
    "ax[0,1].plot(x, x**2)\n",
    "ax[1,0].plot(x, x**3)\n",
    "ax[1,1].plot(x, x**4)\n",
    "\n",
    "for axs in ax.reshape(-1):\n",
    "    axs.set(xlabel='x', ylabel='y(x)')\n",
    "    \n",
    "    axs.spines['right'].set_visible(False)\n",
    "    axs.spines['top'].set_visible(False)\n",
    "    axs.tick_params(left=True, bottom=True, \n",
    "                    labelleft=True, labelbottom=True)"
   ]
  },
  {
   "cell_type": "markdown",
   "id": "recent-appeal",
   "metadata": {
    "id": "recent-appeal"
   },
   "source": [
    "- But how do we include a loop for the title?\n",
    "- We can use `zip()` for parallel iteration. We can therefore iterate over each axes and exponents.\n",
    "- We can even include all the $y(x)$ and store them in `y_list` and include it to our zipped list."
   ]
  },
  {
   "cell_type": "code",
   "execution_count": null,
   "id": "modified-newcastle",
   "metadata": {
    "id": "modified-newcastle"
   },
   "outputs": [],
   "source": [
    "y_list = [x, x**2, x**3, x**4]"
   ]
  },
  {
   "cell_type": "code",
   "execution_count": null,
   "id": "informative-enemy",
   "metadata": {
    "id": "informative-enemy",
    "outputId": "53c10abf-ddf9-4332-9e2e-cf6402fb916d"
   },
   "outputs": [
    {
     "data": {
      "image/png": "[encoded data removed]",
      "text/plain": [
       "<Figure size 720x720 with 4 Axes>"
      ]
     },
     "metadata": {
      "needs_background": "light"
     },
     "output_type": "display_data"
    }
   ],
   "source": [
    "fig, ax = plt.subplots(2,2, figsize=(10,10))\n",
    "\n",
    "\n",
    "for axs, i, y in zip(ax.reshape(-1), range(1,5), y_list):\n",
    "    \n",
    "    axs.plot(x,y)\n",
    "    axs.set(title=f'$x^{i}$', xlabel='x', ylabel='y(x)')\n",
    "    \n",
    "    axs.spines['right'].set_visible(False)\n",
    "    axs.spines['top'].set_visible(False)\n",
    "    axs.tick_params(left=True, bottom=True, \n",
    "                    labelleft=True, labelbottom=True)"
   ]
  },
  {
   "cell_type": "markdown",
   "id": "surrounded-chart",
   "metadata": {
    "id": "surrounded-chart"
   },
   "source": [
    "## B. `while` loops\n",
    "\n",
    "- `while` loops execute a set of statements until a condition is met.\n",
    "- In this case, we can demonstrate by creating a function for Newton's algorithm for approximating square roots.\n",
    "\n",
    "### Newton's Algorithm\n",
    "\n",
    "$$ x_{n+1} = \\frac{1}{2}\\left( x_n + \\frac{a}{x_n} \\right) $$\n",
    "\n",
    "The algorithm starts with a guess $x_1 > 0$, which progressively computes for $x_{n+1}$ until the condition $x_n = x_{n+1}$ is met, or at least $x_n \\approx x_{n+1}$."
   ]
  },
  {
   "cell_type": "markdown",
   "id": "starting-characteristic",
   "metadata": {
    "id": "starting-characteristic"
   },
   "source": [
    "### The code: `Newton_sqrt`\n",
    "\n",
    "- start with input variables `a`, which is the number that we want to find its square root, and `guess`.\n",
    "- `x` in our case, will be set to `x=1` by default, so $x_n=1$\n",
    "- The `while` loops begin with a `True` statement:\n",
    "    - `y`, or $x_{n+1}$ will be continuously solved by ending with `x=y`\n",
    "    - This will continue UNTIL `x==y` is met ($x_n \\approx x_{n+1}$), which is stopped by the `if` statement.\n",
    "    - `Newton_sqrt` then returns `y`, the approximate square root.\n",
    "\n",
    "If you want to see how the x and y-values change as the loops progresses, you can comment out the `print` statements so that these are also included in the output."
   ]
  },
  {
   "cell_type": "code",
   "execution_count": null,
   "id": "legislative-thesis",
   "metadata": {
    "id": "legislative-thesis"
   },
   "outputs": [],
   "source": [
    "def Newton_sqrt(a, guess=1):\n",
    "    \"\"\"\n",
    "    Approximates the square root of a given number via the Newton's algorithm'.\n",
    "    \"\"\"\n",
    "    x = guess\n",
    "    while True:\n",
    "        #print(f\"before x = {x}\")\n",
    "        y = (x + a/x)/2\n",
    "        #print(f\"after x = {x}, y = {y}\\n\")\n",
    "        \n",
    "        if x==y:\n",
    "            break\n",
    "            \n",
    "        x = y\n",
    "        \n",
    "    return y"
   ]
  },
  {
   "cell_type": "markdown",
   "id": "behind-flesh",
   "metadata": {
    "id": "behind-flesh"
   },
   "source": [
    "- Example outputs"
   ]
  },
  {
   "cell_type": "code",
   "execution_count": null,
   "id": "atomic-tuning",
   "metadata": {
    "id": "atomic-tuning",
    "outputId": "39870c7e-10e0-4724-b3b1-901a3d7430e7"
   },
   "outputs": [
    {
     "data": {
      "text/plain": [
       "1.414213562373095"
      ]
     },
     "execution_count": 18,
     "metadata": {},
     "output_type": "execute_result"
    }
   ],
   "source": [
    "Newton_sqrt(2)"
   ]
  },
  {
   "cell_type": "code",
   "execution_count": null,
   "id": "fossil-class",
   "metadata": {
    "id": "fossil-class",
    "outputId": "68a8b45d-847a-49e0-c490-47575e541c01"
   },
   "outputs": [
    {
     "data": {
      "text/plain": [
       "10.0"
      ]
     },
     "execution_count": 19,
     "metadata": {},
     "output_type": "execute_result"
    }
   ],
   "source": [
    "Newton_sqrt(100)"
   ]
  },
  {
   "cell_type": "markdown",
   "id": "rough-conservation",
   "metadata": {
    "id": "rough-conservation"
   },
   "source": [
    "# Coding Space\n",
    "\n",
    "- Try to implement your own codes based on this week's lesson on the cells below.\n",
    "- Feel free to add more cells and markdowns as you see fit."
   ]
  },
  {
   "cell_type": "code",
   "execution_count": null,
   "id": "crazy-performer",
   "metadata": {
    "id": "crazy-performer"
   },
   "outputs": [],
   "source": []
  },
  {
   "cell_type": "code",
   "execution_count": null,
   "id": "presidential-charles",
   "metadata": {
    "id": "presidential-charles"
   },
   "outputs": [],
   "source": []
  },
  {
   "cell_type": "code",
   "execution_count": null,
   "id": "exterior-proceeding",
   "metadata": {
    "id": "exterior-proceeding"
   },
   "outputs": [],
   "source": []
  }
 ],
 "metadata": {
  "colab": {
   "provenance": []
  },
  "kernelspec": {
   "display_name": "Python 3 (ipykernel)",
   "language": "python",
   "name": "python3"
  },
  "language_info": {
   "codemirror_mode": {
    "name": "ipython",
    "version": 3
   },
   "file_extension": ".py",
   "mimetype": "text/x-python",
   "name": "python",
   "nbconvert_exporter": "python",
   "pygments_lexer": "ipython3",
   "version": "3.9.1"
  }
 },
 "nbformat": 4,
 "nbformat_minor": 5
}
