{
  "cells": [
    {
      "cell_type": "code",
      "execution_count": null,
      "id": "special-homework",
      "metadata": {
        "id": "special-homework",
        "outputId": "e287e0af-8425-444b-f73e-781422556d12"
      },
      "outputs": [
        {
          "name": "stdout",
          "output_type": "stream",
          "text": [
            "Python 3.9.1\n"
          ]
        }
      ],
      "source": [
        "!python --version"
      ]
    },
    {
      "cell_type": "markdown",
      "id": "angry-brown",
      "metadata": {
        "id": "angry-brown"
      },
      "source": [
        "<img src=\"UP Data Science Society Logo 2.png\" width=700>"
      ]
    },
    {
      "cell_type": "markdown",
      "id": "southern-hungarian",
      "metadata": {
        "id": "southern-hungarian"
      },
      "source": [
        "# [0.1] Python Fundamentals\n",
        "\n",
        "**Prepared by:**\n",
        "\n",
        "- Lanz Lagman\n",
        "- Dexter To\n",
        "\n",
        "**Topics to cover:** \n",
        "\n",
        "- Python basics \n",
        "- Python lists\n",
        "\n",
        "**Weekly Objectives:**\n",
        "\n",
        "- establish intuition in python syntax\n",
        "\n",
        "- perform basic operations\n",
        "\n",
        "- create lists and extract selected elements by indexing\n",
        "\n",
        "**References:**\n",
        "- [(Ivezic, Connolly, Vanderplas, Gray) Statistics, Data Mining, and Machine Learning in Astronomy](https://press.princeton.edu/books/hardcover/9780691198309/statistics-data-mining-and-machine-learning-in-astronomy)\n",
        "- [W3Schools: Python Data Types](https://www.w3schools.com/python/python_datatypes.asp)"
      ]
    },
    {
      "cell_type": "markdown",
      "id": "terminal-muslim",
      "metadata": {
        "id": "terminal-muslim"
      },
      "source": [
        "## I. Python Basics"
      ]
    },
    {
      "cell_type": "markdown",
      "id": "parallel-sheffield",
      "metadata": {
        "id": "parallel-sheffield"
      },
      "source": [
        "### A. Hello World"
      ]
    },
    {
      "cell_type": "code",
      "execution_count": null,
      "id": "continental-agent",
      "metadata": {
        "id": "continental-agent",
        "outputId": "0b4060b0-685f-4bd2-e305-bf8e08d74297"
      },
      "outputs": [
        {
          "name": "stdout",
          "output_type": "stream",
          "text": [
            "Hello world!\n"
          ]
        }
      ],
      "source": [
        "print('Hello world!')"
      ]
    },
    {
      "cell_type": "code",
      "execution_count": null,
      "id": "average-subscription",
      "metadata": {
        "id": "average-subscription",
        "outputId": "d3dabf4b-81ed-4cda-b643-d14d2b7a6242"
      },
      "outputs": [
        {
          "name": "stdout",
          "output_type": "stream",
          "text": [
            "Hello world!\n"
          ]
        }
      ],
      "source": [
        "print(\"Hello world!\")"
      ]
    },
    {
      "cell_type": "code",
      "execution_count": null,
      "id": "consecutive-wheel",
      "metadata": {
        "id": "consecutive-wheel",
        "outputId": "81e19f94-f9cd-40e9-d4df-5f3f7a9f95cd"
      },
      "outputs": [
        {
          "name": "stdout",
          "output_type": "stream",
          "text": [
            "Hello world!\n"
          ]
        }
      ],
      "source": [
        "print(\"\"\"Hello world!\"\"\")"
      ]
    },
    {
      "cell_type": "markdown",
      "id": "median-license",
      "metadata": {
        "id": "median-license"
      },
      "source": [
        "### B. Comments"
      ]
    },
    {
      "cell_type": "code",
      "execution_count": null,
      "id": "statutory-queen",
      "metadata": {
        "id": "statutory-queen"
      },
      "outputs": [],
      "source": [
        "#this is a comment"
      ]
    },
    {
      "cell_type": "code",
      "execution_count": null,
      "id": "powerful-cleanup",
      "metadata": {
        "id": "powerful-cleanup"
      },
      "outputs": [],
      "source": [
        "#This is the only way\n",
        "#to do a multi-line comment"
      ]
    },
    {
      "cell_type": "markdown",
      "id": "dependent-inquiry",
      "metadata": {
        "id": "dependent-inquiry"
      },
      "source": [
        "### C. Data Types"
      ]
    },
    {
      "cell_type": "markdown",
      "id": "proof-relation",
      "metadata": {
        "id": "proof-relation"
      },
      "source": [
        "- string"
      ]
    },
    {
      "cell_type": "code",
      "execution_count": null,
      "id": "liable-insight",
      "metadata": {
        "id": "liable-insight",
        "outputId": "ae918153-0d49-455b-f086-714011d485a8"
      },
      "outputs": [
        {
          "data": {
            "text/plain": [
              "'Hello world!'"
            ]
          },
          "execution_count": 7,
          "metadata": {},
          "output_type": "execute_result"
        }
      ],
      "source": [
        "\"Hello world!\""
      ]
    },
    {
      "cell_type": "markdown",
      "id": "serial-rings",
      "metadata": {
        "id": "serial-rings"
      },
      "source": [
        "- multi-line string"
      ]
    },
    {
      "cell_type": "code",
      "execution_count": null,
      "id": "serious-terrace",
      "metadata": {
        "id": "serious-terrace",
        "outputId": "477119c3-c46d-413b-a5e8-de03e1821446"
      },
      "outputs": [
        {
          "data": {
            "text/plain": [
              "'UP Data Science Society'"
            ]
          },
          "execution_count": 8,
          "metadata": {},
          "output_type": "execute_result"
        }
      ],
      "source": [
        "(\n",
        "  'UP '\n",
        "  'Data Science '\n",
        "  'Society'\n",
        ")"
      ]
    },
    {
      "cell_type": "markdown",
      "id": "alternative-berry",
      "metadata": {
        "id": "alternative-berry"
      },
      "source": [
        "- int"
      ]
    },
    {
      "cell_type": "code",
      "execution_count": null,
      "id": "informational-jersey",
      "metadata": {
        "id": "informational-jersey",
        "outputId": "0d4f7978-2891-435a-a909-08e2872d6d5f"
      },
      "outputs": [
        {
          "data": {
            "text/plain": [
              "420"
            ]
          },
          "execution_count": 9,
          "metadata": {},
          "output_type": "execute_result"
        }
      ],
      "source": [
        "420"
      ]
    },
    {
      "cell_type": "markdown",
      "id": "coated-sending",
      "metadata": {
        "id": "coated-sending"
      },
      "source": [
        "- float"
      ]
    },
    {
      "cell_type": "code",
      "execution_count": null,
      "id": "academic-there",
      "metadata": {
        "id": "academic-there",
        "outputId": "0a633e0f-03a6-4490-82df-7466eb8da38a"
      },
      "outputs": [
        {
          "data": {
            "text/plain": [
              "69.0"
            ]
          },
          "execution_count": 10,
          "metadata": {},
          "output_type": "execute_result"
        }
      ],
      "source": [
        "69.0"
      ]
    },
    {
      "cell_type": "markdown",
      "id": "yellow-fabric",
      "metadata": {
        "id": "yellow-fabric"
      },
      "source": [
        "- complex"
      ]
    },
    {
      "cell_type": "code",
      "execution_count": null,
      "id": "synthetic-pride",
      "metadata": {
        "id": "synthetic-pride",
        "outputId": "45376832-f60e-4714-ae17-ab2114e2dda4"
      },
      "outputs": [
        {
          "data": {
            "text/plain": [
              "(420+69j)"
            ]
          },
          "execution_count": 11,
          "metadata": {},
          "output_type": "execute_result"
        }
      ],
      "source": [
        "420 + 69j"
      ]
    },
    {
      "cell_type": "markdown",
      "id": "extraordinary-surge",
      "metadata": {
        "id": "extraordinary-surge"
      },
      "source": [
        "- none"
      ]
    },
    {
      "cell_type": "code",
      "execution_count": null,
      "id": "attractive-talent",
      "metadata": {
        "id": "attractive-talent"
      },
      "outputs": [],
      "source": [
        "None"
      ]
    },
    {
      "cell_type": "markdown",
      "id": "streaming-ending",
      "metadata": {
        "id": "streaming-ending"
      },
      "source": [
        "## D. Variables"
      ]
    },
    {
      "cell_type": "code",
      "execution_count": null,
      "id": "several-closer",
      "metadata": {
        "id": "several-closer"
      },
      "outputs": [],
      "source": [
        "samp_str = \"Hello world!\""
      ]
    },
    {
      "cell_type": "code",
      "execution_count": null,
      "id": "handy-virginia",
      "metadata": {
        "id": "handy-virginia",
        "outputId": "cca2e95d-3e5e-43c7-ac74-86a25de1d4c7"
      },
      "outputs": [
        {
          "name": "stdout",
          "output_type": "stream",
          "text": [
            "Hello world!\n"
          ]
        }
      ],
      "source": [
        "print(samp_str)"
      ]
    },
    {
      "cell_type": "code",
      "execution_count": null,
      "id": "copyrighted-expression",
      "metadata": {
        "id": "copyrighted-expression",
        "outputId": "f2415515-1f1f-4dd1-e7c7-389f1fb6e800"
      },
      "outputs": [
        {
          "data": {
            "text/plain": [
              "'Hello world!'"
            ]
          },
          "execution_count": 15,
          "metadata": {},
          "output_type": "execute_result"
        }
      ],
      "source": [
        "samp_str"
      ]
    },
    {
      "cell_type": "code",
      "execution_count": null,
      "id": "incorporated-citation",
      "metadata": {
        "id": "incorporated-citation",
        "outputId": "a19170c4-1422-48de-bcf4-240a3534730f"
      },
      "outputs": [
        {
          "data": {
            "text/plain": [
              "str"
            ]
          },
          "execution_count": 16,
          "metadata": {},
          "output_type": "execute_result"
        }
      ],
      "source": [
        "type(samp_str)"
      ]
    },
    {
      "cell_type": "code",
      "execution_count": null,
      "id": "paperback-armor",
      "metadata": {
        "id": "paperback-armor",
        "outputId": "f9c8f1bb-4aa1-4104-a73c-76f7d2e1311b"
      },
      "outputs": [
        {
          "data": {
            "text/plain": [
              "str"
            ]
          },
          "execution_count": 17,
          "metadata": {},
          "output_type": "execute_result"
        }
      ],
      "source": [
        "samp_multiline_str = ('UP ' \n",
        "                      'Data Science '\n",
        "                      'Society')\n",
        "type(samp_multiline_str)"
      ]
    },
    {
      "cell_type": "code",
      "execution_count": null,
      "id": "stock-performance",
      "metadata": {
        "id": "stock-performance",
        "outputId": "edfda097-9a42-4633-c536-0c33bd3b8c4c"
      },
      "outputs": [
        {
          "name": "stdout",
          "output_type": "stream",
          "text": [
            "UP Data Science Society\n"
          ]
        }
      ],
      "source": [
        "print(samp_multiline_str)"
      ]
    },
    {
      "cell_type": "code",
      "execution_count": null,
      "id": "average-weather",
      "metadata": {
        "id": "average-weather",
        "outputId": "43ec9875-530c-4c7e-8353-8d0febedf817"
      },
      "outputs": [
        {
          "data": {
            "text/plain": [
              "int"
            ]
          },
          "execution_count": 19,
          "metadata": {},
          "output_type": "execute_result"
        }
      ],
      "source": [
        "samp_int = 420\n",
        "type(samp_int)"
      ]
    },
    {
      "cell_type": "code",
      "execution_count": null,
      "id": "weird-stephen",
      "metadata": {
        "id": "weird-stephen",
        "outputId": "843c9ae8-de69-4944-ee29-d42dc6cc458b"
      },
      "outputs": [
        {
          "data": {
            "text/plain": [
              "float"
            ]
          },
          "execution_count": 20,
          "metadata": {},
          "output_type": "execute_result"
        }
      ],
      "source": [
        "samp_float = 69.0\n",
        "type(samp_float)"
      ]
    },
    {
      "cell_type": "code",
      "execution_count": null,
      "id": "becoming-formula",
      "metadata": {
        "id": "becoming-formula",
        "outputId": "cf9cf7ec-7687-4550-ddde-11fb085e7633"
      },
      "outputs": [
        {
          "data": {
            "text/plain": [
              "complex"
            ]
          },
          "execution_count": 21,
          "metadata": {},
          "output_type": "execute_result"
        }
      ],
      "source": [
        "samp_complex = 420 + 69.0j\n",
        "type(samp_complex)"
      ]
    },
    {
      "cell_type": "code",
      "execution_count": null,
      "id": "ecological-briefing",
      "metadata": {
        "id": "ecological-briefing",
        "outputId": "6707fb8a-2bb1-4011-f919-1c99d077c40d"
      },
      "outputs": [
        {
          "data": {
            "text/plain": [
              "NoneType"
            ]
          },
          "execution_count": 22,
          "metadata": {},
          "output_type": "execute_result"
        }
      ],
      "source": [
        "samp_None = None\n",
        "type(samp_None)"
      ]
    },
    {
      "cell_type": "markdown",
      "id": "meaning-vampire",
      "metadata": {
        "id": "meaning-vampire"
      },
      "source": [
        "- Variables cannot be named ..."
      ]
    },
    {
      "cell_type": "code",
      "execution_count": null,
      "id": "functioning-arcade",
      "metadata": {
        "id": "functioning-arcade",
        "outputId": "73094b8f-7192-4a6e-8160-739963f46c08"
      },
      "outputs": [
        {
          "ename": "SyntaxError",
          "evalue": "invalid syntax (793119187.py, line 1)",
          "output_type": "error",
          "traceback": [
            "\u001b[1;36m  Input \u001b[1;32mIn [23]\u001b[1;36m\u001b[0m\n\u001b[1;33m    2pac\u001b[0m\n\u001b[1;37m     ^\u001b[0m\n\u001b[1;31mSyntaxError\u001b[0m\u001b[1;31m:\u001b[0m invalid syntax\n"
          ]
        }
      ],
      "source": [
        "2pac"
      ]
    },
    {
      "cell_type": "code",
      "execution_count": null,
      "id": "fifteen-people",
      "metadata": {
        "id": "fifteen-people",
        "outputId": "d977d74b-f48b-4da0-f890-41f1379d85da"
      },
      "outputs": [
        {
          "data": {
            "text/plain": [
              "'2pac'"
            ]
          },
          "execution_count": 24,
          "metadata": {},
          "output_type": "execute_result"
        }
      ],
      "source": [
        "_2pac = '2pac'\n",
        "_2pac"
      ]
    },
    {
      "cell_type": "markdown",
      "id": "hungarian-philippines",
      "metadata": {
        "id": "hungarian-philippines"
      },
      "source": [
        "## E. Operators\n",
        "\n",
        "- assign variables `a` and `b`."
      ]
    },
    {
      "cell_type": "code",
      "execution_count": null,
      "id": "extended-blank",
      "metadata": {
        "id": "extended-blank"
      },
      "outputs": [],
      "source": [
        "a = 420\n",
        "b = 69.0"
      ]
    },
    {
      "cell_type": "markdown",
      "id": "handed-columbus",
      "metadata": {
        "id": "handed-columbus"
      },
      "source": [
        "The following are 'common' operators\n",
        "- `+`: addition\n",
        "- `-`: subtraction\n",
        "- `*`: multiplication\n",
        "- `**`: exponentiation\n",
        "- `/`: division\n",
        "- `//`: floor division (returns the largest possible integer)\n",
        "- `%`: modulus (remainder after division)"
      ]
    },
    {
      "cell_type": "code",
      "execution_count": null,
      "id": "disturbed-comparative",
      "metadata": {
        "id": "disturbed-comparative",
        "outputId": "0ec6c26e-9da3-496b-dc9b-7d89fe52b08c"
      },
      "outputs": [
        {
          "data": {
            "text/plain": [
              "489.0"
            ]
          },
          "execution_count": 26,
          "metadata": {},
          "output_type": "execute_result"
        }
      ],
      "source": [
        "a + b"
      ]
    },
    {
      "cell_type": "code",
      "execution_count": null,
      "id": "elder-gabriel",
      "metadata": {
        "id": "elder-gabriel",
        "outputId": "8a5faa3b-28d7-4313-82a5-b08a9bf8d893"
      },
      "outputs": [
        {
          "data": {
            "text/plain": [
              "351.0"
            ]
          },
          "execution_count": 27,
          "metadata": {},
          "output_type": "execute_result"
        }
      ],
      "source": [
        "a - b"
      ]
    },
    {
      "cell_type": "code",
      "execution_count": null,
      "id": "rubber-supplier",
      "metadata": {
        "id": "rubber-supplier",
        "outputId": "b41d8bea-5def-4ee1-8986-fe883d6b32e7"
      },
      "outputs": [
        {
          "data": {
            "text/plain": [
              "28980.0"
            ]
          },
          "execution_count": 28,
          "metadata": {},
          "output_type": "execute_result"
        }
      ],
      "source": [
        "a * b"
      ]
    },
    {
      "cell_type": "code",
      "execution_count": null,
      "id": "demanding-aspect",
      "metadata": {
        "id": "demanding-aspect",
        "outputId": "bb9fce5b-1f36-4726-c1e0-9a40e470e983"
      },
      "outputs": [
        {
          "data": {
            "text/plain": [
              "1.0097201832880355e+181"
            ]
          },
          "execution_count": 29,
          "metadata": {},
          "output_type": "execute_result"
        }
      ],
      "source": [
        "a**b"
      ]
    },
    {
      "cell_type": "code",
      "execution_count": null,
      "id": "identified-recipient",
      "metadata": {
        "id": "identified-recipient",
        "outputId": "42243ec3-498b-493e-fa79-f5e723299a77"
      },
      "outputs": [
        {
          "data": {
            "text/plain": [
              "6.086956521739131"
            ]
          },
          "execution_count": 30,
          "metadata": {},
          "output_type": "execute_result"
        }
      ],
      "source": [
        "a / b"
      ]
    },
    {
      "cell_type": "code",
      "execution_count": null,
      "id": "horizontal-circulation",
      "metadata": {
        "id": "horizontal-circulation",
        "outputId": "306788e4-b84f-4bd9-b421-adb4e4f069a5"
      },
      "outputs": [
        {
          "data": {
            "text/plain": [
              "6.0"
            ]
          },
          "execution_count": 31,
          "metadata": {},
          "output_type": "execute_result"
        }
      ],
      "source": [
        "a // b"
      ]
    },
    {
      "cell_type": "code",
      "execution_count": null,
      "id": "protecting-ottawa",
      "metadata": {
        "id": "protecting-ottawa",
        "outputId": "05cdd1e2-0ed4-4c40-9ec1-c4cea6550956"
      },
      "outputs": [
        {
          "data": {
            "text/plain": [
              "6.0"
            ]
          },
          "execution_count": 32,
          "metadata": {},
          "output_type": "execute_result"
        }
      ],
      "source": [
        "a % b"
      ]
    },
    {
      "cell_type": "markdown",
      "id": "comic-hearing",
      "metadata": {
        "id": "comic-hearing"
      },
      "source": [
        "Python also provides the operators `+=`, `-=`, `/=`, `*=`, `**=`, and `%=`, which combine arithmetic operations with assignment.\n",
        "\n",
        "- `+=`: adds to current value\n",
        "- `-=`: subtracts to current value\n",
        "- `/=`: divides to current value\n",
        "- `*=`: multiplies to current value\n",
        "- `**=`: exponentiates to current value\n",
        "- `%=`: applies modulus to current value\n",
        "\n",
        "Let's create a variable called `x` and assign to it a value of 2:"
      ]
    },
    {
      "cell_type": "code",
      "execution_count": null,
      "id": "forced-dairy",
      "metadata": {
        "id": "forced-dairy"
      },
      "outputs": [],
      "source": [
        "x = 2"
      ]
    },
    {
      "cell_type": "code",
      "execution_count": null,
      "id": "communist-earthquake",
      "metadata": {
        "id": "communist-earthquake",
        "outputId": "ba98dc45-1c94-4e9e-d7ae-697bf6d75610"
      },
      "outputs": [
        {
          "data": {
            "text/plain": [
              "3"
            ]
          },
          "execution_count": 34,
          "metadata": {},
          "output_type": "execute_result"
        }
      ],
      "source": [
        "x += 1\n",
        "x"
      ]
    },
    {
      "cell_type": "code",
      "execution_count": null,
      "id": "collected-burst",
      "metadata": {
        "id": "collected-burst",
        "outputId": "7c37723d-ce3a-443f-f3f1-38bebcaf3450"
      },
      "outputs": [
        {
          "data": {
            "text/plain": [
              "2"
            ]
          },
          "execution_count": 35,
          "metadata": {},
          "output_type": "execute_result"
        }
      ],
      "source": [
        "x -= 1\n",
        "x"
      ]
    },
    {
      "cell_type": "code",
      "execution_count": null,
      "id": "dental-inclusion",
      "metadata": {
        "id": "dental-inclusion",
        "outputId": "a39691ad-4465-4860-f820-304b8bd23364"
      },
      "outputs": [
        {
          "data": {
            "text/plain": [
              "1.0"
            ]
          },
          "execution_count": 36,
          "metadata": {},
          "output_type": "execute_result"
        }
      ],
      "source": [
        "x /= 2\n",
        "x"
      ]
    },
    {
      "cell_type": "code",
      "execution_count": null,
      "id": "distant-convert",
      "metadata": {
        "id": "distant-convert",
        "outputId": "99b6a8f5-ccbd-4c9d-d0ff-bc00bc8770ec"
      },
      "outputs": [
        {
          "data": {
            "text/plain": [
              "2.0"
            ]
          },
          "execution_count": 37,
          "metadata": {},
          "output_type": "execute_result"
        }
      ],
      "source": [
        "x *= 2\n",
        "x"
      ]
    },
    {
      "cell_type": "code",
      "execution_count": null,
      "id": "younger-species",
      "metadata": {
        "id": "younger-species",
        "outputId": "648ed4e0-4816-4362-dbad-337b61c7b9b7"
      },
      "outputs": [
        {
          "data": {
            "text/plain": [
              "4.0"
            ]
          },
          "execution_count": 38,
          "metadata": {},
          "output_type": "execute_result"
        }
      ],
      "source": [
        "x **= 2\n",
        "x"
      ]
    },
    {
      "cell_type": "code",
      "execution_count": null,
      "id": "infectious-postcard",
      "metadata": {
        "id": "infectious-postcard",
        "outputId": "22fde3bd-7038-4384-c7dc-c0d300d0c95a"
      },
      "outputs": [
        {
          "data": {
            "text/plain": [
              "0.0"
            ]
          },
          "execution_count": 39,
          "metadata": {},
          "output_type": "execute_result"
        }
      ],
      "source": [
        "x %= 2\n",
        "x"
      ]
    },
    {
      "cell_type": "markdown",
      "id": "aging-edwards",
      "metadata": {
        "id": "aging-edwards"
      },
      "source": [
        "## II. Python Lists"
      ]
    },
    {
      "cell_type": "code",
      "execution_count": null,
      "id": "assigned-banana",
      "metadata": {
        "id": "assigned-banana"
      },
      "outputs": [],
      "source": [
        "empty_list = []\n",
        "number_list = [1,2,3,4,5,6]\n",
        "samp_list = [samp_str, samp_multiline_str, samp_int, samp_float, samp_complex, samp_None]"
      ]
    },
    {
      "cell_type": "code",
      "execution_count": null,
      "id": "similar-violin",
      "metadata": {
        "id": "similar-violin",
        "outputId": "386e2183-99ef-4e32-bd52-cd7a8897e1a5"
      },
      "outputs": [
        {
          "data": {
            "text/plain": [
              "[]"
            ]
          },
          "execution_count": 41,
          "metadata": {},
          "output_type": "execute_result"
        }
      ],
      "source": [
        "empty_list"
      ]
    },
    {
      "cell_type": "code",
      "execution_count": null,
      "id": "caroline-belief",
      "metadata": {
        "id": "caroline-belief",
        "outputId": "ade0d591-9708-49d7-b0f2-7c76184e6fba"
      },
      "outputs": [
        {
          "data": {
            "text/plain": [
              "[1, 2, 3, 4, 5, 6]"
            ]
          },
          "execution_count": 42,
          "metadata": {},
          "output_type": "execute_result"
        }
      ],
      "source": [
        "number_list"
      ]
    },
    {
      "cell_type": "code",
      "execution_count": null,
      "id": "novel-crown",
      "metadata": {
        "id": "novel-crown",
        "outputId": "b0bc949c-5c03-497a-d07c-dc1f000a5ee6"
      },
      "outputs": [
        {
          "data": {
            "text/plain": [
              "['Hello world!', 'UP Data Science Society', 420, 69.0, (420+69j), None]"
            ]
          },
          "execution_count": 43,
          "metadata": {},
          "output_type": "execute_result"
        }
      ],
      "source": [
        "samp_list"
      ]
    },
    {
      "cell_type": "code",
      "execution_count": null,
      "id": "infrared-uncle",
      "metadata": {
        "id": "infrared-uncle",
        "outputId": "a8fd2c7a-efaf-4f0c-8778-0ac272b91113"
      },
      "outputs": [
        {
          "data": {
            "text/plain": [
              "list"
            ]
          },
          "execution_count": 44,
          "metadata": {},
          "output_type": "execute_result"
        }
      ],
      "source": [
        "type(samp_list)"
      ]
    },
    {
      "cell_type": "markdown",
      "id": "radio-battlefield",
      "metadata": {
        "id": "radio-battlefield"
      },
      "source": [
        "- counting in Python starts with 0"
      ]
    },
    {
      "cell_type": "code",
      "execution_count": null,
      "id": "immune-swaziland",
      "metadata": {
        "id": "immune-swaziland",
        "outputId": "503e7412-08e1-41be-fd4e-c27c6645289c"
      },
      "outputs": [
        {
          "data": {
            "text/plain": [
              "1"
            ]
          },
          "execution_count": 45,
          "metadata": {},
          "output_type": "execute_result"
        }
      ],
      "source": [
        "number_list[0]"
      ]
    },
    {
      "cell_type": "code",
      "execution_count": null,
      "id": "b2e68591",
      "metadata": {
        "id": "b2e68591",
        "outputId": "8c91ebf3-117c-4833-8fb4-3c6837e0f3af"
      },
      "outputs": [
        {
          "data": {
            "text/plain": [
              "6"
            ]
          },
          "execution_count": 46,
          "metadata": {},
          "output_type": "execute_result"
        }
      ],
      "source": [
        "number_list[5]"
      ]
    },
    {
      "cell_type": "markdown",
      "id": "taken-jacob",
      "metadata": {
        "id": "taken-jacob"
      },
      "source": [
        "- slicing `[start:end:interval]`"
      ]
    },
    {
      "cell_type": "code",
      "execution_count": null,
      "id": "4defa8e5",
      "metadata": {
        "id": "4defa8e5",
        "outputId": "dd663d46-ecc6-40c5-8bc6-7f64dc088a06"
      },
      "outputs": [
        {
          "data": {
            "text/plain": [
              "[1, 2, 3]"
            ]
          },
          "execution_count": 47,
          "metadata": {},
          "output_type": "execute_result"
        }
      ],
      "source": [
        "number_list[0:3] #getting the first 3 items"
      ]
    },
    {
      "cell_type": "code",
      "execution_count": null,
      "id": "31047ffb",
      "metadata": {
        "id": "31047ffb",
        "outputId": "2a70e569-4533-4ca8-e18d-7f5a67aacc77"
      },
      "outputs": [
        {
          "data": {
            "text/plain": [
              "[1, 2, 3]"
            ]
          },
          "execution_count": 48,
          "metadata": {},
          "output_type": "execute_result"
        }
      ],
      "source": [
        "number_list[:3] #getting the first 3 items, no initial entry means 0th item"
      ]
    },
    {
      "cell_type": "code",
      "execution_count": null,
      "id": "900f74f6",
      "metadata": {
        "id": "900f74f6",
        "outputId": "046e3370-dece-4b19-cd4f-2c4a3986c213"
      },
      "outputs": [
        {
          "data": {
            "text/plain": [
              "[4, 5, 6]"
            ]
          },
          "execution_count": 49,
          "metadata": {},
          "output_type": "execute_result"
        }
      ],
      "source": [
        "number_list[3:] #getting the last 3 items, no final entry means up to the last item"
      ]
    },
    {
      "cell_type": "code",
      "execution_count": null,
      "id": "991c5120",
      "metadata": {
        "id": "991c5120",
        "outputId": "0dd1c044-c8bb-46d7-d747-abc78e9ff0ff"
      },
      "outputs": [
        {
          "data": {
            "text/plain": [
              "[1, 3, 5]"
            ]
          },
          "execution_count": 50,
          "metadata": {},
          "output_type": "execute_result"
        }
      ],
      "source": [
        "number_list[0:5:2] #getting every 2 interval of the full list"
      ]
    },
    {
      "cell_type": "code",
      "execution_count": null,
      "id": "c79501ea",
      "metadata": {
        "id": "c79501ea",
        "outputId": "ba49e7c3-9c75-44ee-dd18-efb33ef35b02"
      },
      "outputs": [
        {
          "data": {
            "text/plain": [
              "[1, 3, 5]"
            ]
          },
          "execution_count": 51,
          "metadata": {},
          "output_type": "execute_result"
        }
      ],
      "source": [
        "number_list[::2] #blank entries implies up to start and end"
      ]
    },
    {
      "cell_type": "markdown",
      "id": "metropolitan-undergraduate",
      "metadata": {
        "id": "metropolitan-undergraduate"
      },
      "source": [
        "# III. String Formatting"
      ]
    },
    {
      "cell_type": "code",
      "execution_count": null,
      "id": "assisted-interest",
      "metadata": {
        "id": "assisted-interest"
      },
      "outputs": [],
      "source": [
        "name, age = 'Juan', 50"
      ]
    },
    {
      "cell_type": "code",
      "execution_count": null,
      "id": "proprietary-apartment",
      "metadata": {
        "id": "proprietary-apartment",
        "outputId": "725f1f93-9b42-4414-9707-69d80adec558"
      },
      "outputs": [
        {
          "data": {
            "text/plain": [
              "'Hi, my name is Juan. I am 50 years old.'"
            ]
          },
          "execution_count": 53,
          "metadata": {},
          "output_type": "execute_result"
        }
      ],
      "source": [
        "\"Hi, my name is {}. I am {} years old.\".format(name, age)"
      ]
    },
    {
      "cell_type": "code",
      "execution_count": null,
      "id": "polyphonic-spirit",
      "metadata": {
        "id": "polyphonic-spirit",
        "outputId": "a07c51c1-5c79-4116-a35c-0aeef1a9299b"
      },
      "outputs": [
        {
          "data": {
            "text/plain": [
              "'Hi, my name is Juan. I am 50 years old.'"
            ]
          },
          "execution_count": 54,
          "metadata": {},
          "output_type": "execute_result"
        }
      ],
      "source": [
        "f\"Hi, my name is {name}. I am {age} years old.\""
      ]
    },
    {
      "cell_type": "code",
      "execution_count": null,
      "id": "geographic-defense",
      "metadata": {
        "id": "geographic-defense"
      },
      "outputs": [],
      "source": []
    }
  ],
  "metadata": {
    "colab": {
      "provenance": []
    },
    "kernelspec": {
      "display_name": "Python 3 (ipykernel)",
      "language": "python",
      "name": "python3"
    },
    "language_info": {
      "codemirror_mode": {
        "name": "ipython",
        "version": 3
      },
      "file_extension": ".py",
      "mimetype": "text/x-python",
      "name": "python",
      "nbconvert_exporter": "python",
      "pygments_lexer": "ipython3",
      "version": "3.9.1"
    }
  },
  "nbformat": 4,
  "nbformat_minor": 5
}
