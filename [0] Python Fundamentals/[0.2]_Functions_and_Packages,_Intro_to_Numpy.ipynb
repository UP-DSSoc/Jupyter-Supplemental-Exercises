{
  "cells": [
    {
      "cell_type": "code",
      "execution_count": null,
      "id": "apparent-august",
      "metadata": {
        "id": "apparent-august",
        "outputId": "26878c0a-9a47-4551-9d7c-36224e4f011b"
      },
      "outputs": [
        {
          "name": "stdout",
          "output_type": "stream",
          "text": [
            "Python 3.9.1\n"
          ]
        }
      ],
      "source": [
        "!python --version"
      ]
    },
    {
      "cell_type": "markdown",
      "id": "casual-recognition",
      "metadata": {
        "id": "casual-recognition"
      },
      "source": [
        "<img src=\"UP Data Science Society Logo 2.png\" width=700>"
      ]
    },
    {
      "cell_type": "markdown",
      "id": "bright-separation",
      "metadata": {
        "id": "bright-separation"
      },
      "source": [
        "# [0.2] Python Fundamentals\n",
        "\n",
        "**Prepared by:**\n",
        "\n",
        "- Joshua Castillo\n",
        "- Lanz Lagman\n",
        "\n",
        "**Topics to cover:** \n",
        "\n",
        "- Functions and packages \n",
        "- Numpy\n",
        "\n",
        "**References:**\n",
        "- [(Ivezic, Connolly, Vanderplas, Gray) Statistics, Data Mining, and Machine Learning in Astronomy](https://press.princeton.edu/books/hardcover/9780691198309/statistics-data-mining-and-machine-learning-in-astronomy)\n",
        "- [(Vanderplas) Python Data Science Handbook](https://jakevdp.github.io/PythonDataScienceHandbook/)"
      ]
    },
    {
      "cell_type": "markdown",
      "id": "occasional-november",
      "metadata": {
        "id": "occasional-november"
      },
      "source": [
        "# I. Functions and Packages"
      ]
    },
    {
      "cell_type": "markdown",
      "id": "negative-iraqi",
      "metadata": {
        "id": "negative-iraqi"
      },
      "source": [
        "## A. Basics of Building a Function\n",
        "\n",
        "- A function is a set of instructions that you ask your computer carry out. These are essential as it will allows us to do many things to our data in order to extract meaningful insights.\n",
        "- It is highly suggested that when creating functions, a docstring should be incorporated with it. \n",
        "  - A docstring is documentation of what a function does\n",
        "  - See the codes below for examples on the functions `do_nothing`, `sqr`, and `introduce_yourself`. Make sure to run the functions so that they can be used for reference later."
      ]
    },
    {
      "cell_type": "code",
      "execution_count": null,
      "id": "reverse-attribute",
      "metadata": {
        "id": "reverse-attribute"
      },
      "outputs": [],
      "source": [
        "def do_nothing(x):\n",
        "    \"\"\"\n",
        "    This is a sample docstring. This function does not do anything at all, lol.\n",
        "    \"\"\"\n",
        "    return x"
      ]
    },
    {
      "cell_type": "code",
      "execution_count": null,
      "id": "unlikely-cincinnati",
      "metadata": {
        "id": "unlikely-cincinnati"
      },
      "outputs": [],
      "source": [
        "def sqr(x):\n",
        "    \"\"\"\n",
        "    Squares any input x of type float/int.\n",
        "    \"\"\"\n",
        "    return x**2"
      ]
    },
    {
      "cell_type": "code",
      "execution_count": null,
      "id": "induced-share",
      "metadata": {
        "id": "induced-share"
      },
      "outputs": [],
      "source": [
        "def introduce_yourself(x):\n",
        "    \"\"\"\n",
        "    Politely introduces an input name.\n",
        "    \"\"\"\n",
        "    return f\"Hi!, my name is {x}.\""
      ]
    },
    {
      "cell_type": "markdown",
      "id": "requested-disney",
      "metadata": {
        "id": "requested-disney"
      },
      "source": [
        "- Docstrings of certain functions could be accessed using the `help()` function or by typing `?` after the function. Let's apply this to our three functions earlier. Try running the codes below"
      ]
    },
    {
      "cell_type": "code",
      "execution_count": null,
      "id": "subsequent-world",
      "metadata": {
        "id": "subsequent-world",
        "outputId": "a6522786-3d86-46aa-958f-ba587970acdf"
      },
      "outputs": [
        {
          "name": "stdout",
          "output_type": "stream",
          "text": [
            "Help on function do_nothing in module __main__:\n",
            "\n",
            "do_nothing(x)\n",
            "    This is a sample docstring. This function does not do anything at all, lol.\n",
            "\n"
          ]
        }
      ],
      "source": [
        "help(do_nothing)"
      ]
    },
    {
      "cell_type": "code",
      "execution_count": null,
      "id": "spare-italian",
      "metadata": {
        "id": "spare-italian",
        "outputId": "87fa757f-de25-4218-e9f3-4b8116a4ba2d"
      },
      "outputs": [
        {
          "name": "stdout",
          "output_type": "stream",
          "text": [
            "Help on function sqr in module __main__:\n",
            "\n",
            "sqr(x)\n",
            "    Squares any input x of type float/int.\n",
            "\n"
          ]
        }
      ],
      "source": [
        "help(sqr)"
      ]
    },
    {
      "cell_type": "code",
      "execution_count": null,
      "id": "finished-receiver",
      "metadata": {
        "id": "finished-receiver",
        "outputId": "22fc7a12-1dad-41b8-a492-62b5534c8151"
      },
      "outputs": [
        {
          "name": "stdout",
          "output_type": "stream",
          "text": [
            "Help on function introduce_yourself in module __main__:\n",
            "\n",
            "introduce_yourself(x)\n",
            "    Politely introduces an input name.\n",
            "\n"
          ]
        }
      ],
      "source": [
        "help(introduce_yourself)"
      ]
    },
    {
      "cell_type": "code",
      "execution_count": null,
      "id": "subjective-judgment",
      "metadata": {
        "id": "subjective-judgment"
      },
      "outputs": [],
      "source": [
        "do_nothing?"
      ]
    },
    {
      "cell_type": "code",
      "execution_count": null,
      "id": "facial-graduation",
      "metadata": {
        "id": "facial-graduation"
      },
      "outputs": [],
      "source": [
        "sqr?"
      ]
    },
    {
      "cell_type": "code",
      "execution_count": null,
      "id": "discrete-defendant",
      "metadata": {
        "id": "discrete-defendant"
      },
      "outputs": [],
      "source": [
        "introduce_yourself?"
      ]
    },
    {
      "cell_type": "markdown",
      "id": "overhead-level",
      "metadata": {
        "id": "overhead-level"
      },
      "source": [
        "- The source code of any function could be accessed by typing `??` at the end of the function."
      ]
    },
    {
      "cell_type": "code",
      "execution_count": null,
      "id": "interested-novelty",
      "metadata": {
        "id": "interested-novelty"
      },
      "outputs": [],
      "source": [
        "do_nothing??"
      ]
    },
    {
      "cell_type": "code",
      "execution_count": null,
      "id": "rolled-question",
      "metadata": {
        "id": "rolled-question"
      },
      "outputs": [],
      "source": [
        "sqr??"
      ]
    },
    {
      "cell_type": "code",
      "execution_count": null,
      "id": "later-updating",
      "metadata": {
        "id": "later-updating"
      },
      "outputs": [],
      "source": [
        "introduce_yourself??"
      ]
    },
    {
      "cell_type": "markdown",
      "id": "dress-active",
      "metadata": {
        "id": "dress-active"
      },
      "source": [
        "- Try to run the functions with their respective values below.\n",
        "  - Run the `do_nothing` function with the input `'inflation'`. It should return `'inflation'`.\n",
        "  - Run the `sqr` function with the input `100`. `%%time` is an example of *magic command* which prints the wall time it takes to run the entire cell.\n",
        "  - Run the introduce_yourself function with the input 'Jhepoy Dizon'. It should return 'Hi!, my name is Jhepoy Dizon.'"
      ]
    },
    {
      "cell_type": "code",
      "execution_count": null,
      "id": "charitable-model",
      "metadata": {
        "colab": {
          "base_uri": "https://localhost:8080/",
          "height": 164
        },
        "id": "charitable-model",
        "outputId": "cecaf8b7-8177-4200-a012-9e48d913aecd"
      },
      "outputs": [
        {
          "data": {
            "text/plain": [
              "'inflation'"
            ]
          },
          "execution_count": 14,
          "metadata": {},
          "output_type": "execute_result"
        }
      ],
      "source": [
        "do_nothing('inflation')"
      ]
    },
    {
      "cell_type": "code",
      "execution_count": null,
      "id": "dramatic-apple",
      "metadata": {
        "id": "dramatic-apple",
        "outputId": "60db57bd-e4db-4f89-98c0-e24372ace110"
      },
      "outputs": [
        {
          "name": "stdout",
          "output_type": "stream",
          "text": [
            "CPU times: total: 0 ns\n",
            "Wall time: 0 ns\n"
          ]
        },
        {
          "data": {
            "text/plain": [
              "10000"
            ]
          },
          "execution_count": 15,
          "metadata": {},
          "output_type": "execute_result"
        }
      ],
      "source": [
        "%%time\n",
        "sqr(100)"
      ]
    },
    {
      "cell_type": "code",
      "execution_count": null,
      "id": "bigger-journey",
      "metadata": {
        "id": "bigger-journey",
        "outputId": "d81cc13a-529c-4185-dfcd-7401d6c8fbba"
      },
      "outputs": [
        {
          "data": {
            "text/plain": [
              "'Hi!, my name is Jhepoy Dizon.'"
            ]
          },
          "execution_count": 16,
          "metadata": {},
          "output_type": "execute_result"
        }
      ],
      "source": [
        "introduce_yourself('Jhepoy Dizon')"
      ]
    },
    {
      "cell_type": "markdown",
      "id": "electoral-diagnosis",
      "metadata": {
        "id": "electoral-diagnosis"
      },
      "source": [
        "# II. `NumPy`"
      ]
    },
    {
      "cell_type": "markdown",
      "id": "weekly-response",
      "metadata": {
        "id": "weekly-response"
      },
      "source": [
        "## A. Basics"
      ]
    },
    {
      "cell_type": "markdown",
      "id": "HEheG_keCIYl",
      "metadata": {
        "id": "HEheG_keCIYl"
      },
      "source": [
        "- `NumPy` is a python package that will help us work with arrays a lot better.\n",
        "- First, let's import the numpy package as `np`\n",
        "- Also, take a look at the description of the `np.ones` command in the numpy package. "
      ]
    },
    {
      "cell_type": "code",
      "execution_count": null,
      "id": "august-monroe",
      "metadata": {
        "id": "august-monroe"
      },
      "outputs": [],
      "source": [
        "import numpy as np"
      ]
    },
    {
      "cell_type": "code",
      "execution_count": null,
      "id": "north-field",
      "metadata": {
        "id": "north-field",
        "outputId": "d7b2f7cf-65ee-421c-ee64-b799ff509347"
      },
      "outputs": [
        {
          "name": "stdout",
          "output_type": "stream",
          "text": [
            "Help on function ones in module numpy:\n",
            "\n",
            "ones(shape, dtype=None, order='C', *, like=None)\n",
            "    Return a new array of given shape and type, filled with ones.\n",
            "    \n",
            "    Parameters\n",
            "    ----------\n",
            "    shape : int or sequence of ints\n",
            "        Shape of the new array, e.g., ``(2, 3)`` or ``2``.\n",
            "    dtype : data-type, optional\n",
            "        The desired data-type for the array, e.g., `numpy.int8`.  Default is\n",
            "        `numpy.float64`.\n",
            "    order : {'C', 'F'}, optional, default: C\n",
            "        Whether to store multi-dimensional data in row-major\n",
            "        (C-style) or column-major (Fortran-style) order in\n",
            "        memory.\n",
            "    like : array_like\n",
            "        Reference object to allow the creation of arrays which are not\n",
            "        NumPy arrays. If an array-like passed in as ``like`` supports\n",
            "        the ``__array_function__`` protocol, the result will be defined\n",
            "        by it. In this case, it ensures the creation of an array object\n",
            "        compatible with that passed in via this argument.\n",
            "    \n",
            "        .. versionadded:: 1.20.0\n",
            "    \n",
            "    Returns\n",
            "    -------\n",
            "    out : ndarray\n",
            "        Array of ones with the given shape, dtype, and order.\n",
            "    \n",
            "    See Also\n",
            "    --------\n",
            "    ones_like : Return an array of ones with shape and type of input.\n",
            "    empty : Return a new uninitialized array.\n",
            "    zeros : Return a new array setting values to zero.\n",
            "    full : Return a new array of given shape filled with value.\n",
            "    \n",
            "    \n",
            "    Examples\n",
            "    --------\n",
            "    >>> np.ones(5)\n",
            "    array([1., 1., 1., 1., 1.])\n",
            "    \n",
            "    >>> np.ones((5,), dtype=int)\n",
            "    array([1, 1, 1, 1, 1])\n",
            "    \n",
            "    >>> np.ones((2, 1))\n",
            "    array([[1.],\n",
            "           [1.]])\n",
            "    \n",
            "    >>> s = (2,2)\n",
            "    >>> np.ones(s)\n",
            "    array([[1.,  1.],\n",
            "           [1.,  1.]])\n",
            "\n"
          ]
        }
      ],
      "source": [
        "help(np.ones)"
      ]
    },
    {
      "cell_type": "markdown",
      "id": "simplified-ebony",
      "metadata": {
        "id": "simplified-ebony"
      },
      "source": [
        "### Constructing Arrays"
      ]
    },
    {
      "cell_type": "markdown",
      "id": "disabled-greensboro",
      "metadata": {
        "id": "disabled-greensboro"
      },
      "source": [
        "- Constructing arrays allow us to have a more convenient way to store and view our data for any problem.\n",
        "- Let's construct a numpy 1D array with 2 elements using the command below. "
      ]
    },
    {
      "cell_type": "code",
      "execution_count": null,
      "id": "answering-commitment",
      "metadata": {
        "id": "answering-commitment",
        "outputId": "fd371f83-d086-41bd-88f0-4611228ebd4d"
      },
      "outputs": [
        {
          "data": {
            "text/plain": [
              "array([1., 1.])"
            ]
          },
          "execution_count": 19,
          "metadata": {},
          "output_type": "execute_result"
        }
      ],
      "source": [
        "np.ones(shape=(2))"
      ]
    },
    {
      "cell_type": "markdown",
      "id": "acceptable-valentine",
      "metadata": {
        "id": "acceptable-valentine"
      },
      "source": [
        "- Now, construct a 2D array with 2 rows and 3 columns. Notice how, compared to the 1D array, we input numbers in the form $(r,c)$. Here, $r$ indicates the number of rows and $c$ indicates the number of columns. This gives us a 2D $r\\times c = 2\\times 3$ array."
      ]
    },
    {
      "cell_type": "code",
      "execution_count": null,
      "id": "still-thunder",
      "metadata": {
        "id": "still-thunder",
        "outputId": "773e7f52-f8aa-4984-96dd-338ca94feb05"
      },
      "outputs": [
        {
          "data": {
            "text/plain": [
              "array([[1., 1., 1.],\n",
              "       [1., 1., 1.]])"
            ]
          },
          "execution_count": 20,
          "metadata": {},
          "output_type": "execute_result"
        }
      ],
      "source": [
        "np.ones(shape=(2,3))"
      ]
    },
    {
      "cell_type": "markdown",
      "id": "fuzzy-smile",
      "metadata": {
        "id": "fuzzy-smile"
      },
      "source": [
        "- Let's apply this to a 3D array. Here, we construct a 3D array with four 2D arrays stacked on each other, wherein each 2D array has 2 rows and 3 columns.\n",
        "- Notice how for this, we give the inputs $(n,r,c)$ where n is the number of 2D $r\\times c$ arrays we want to output."
      ]
    },
    {
      "cell_type": "code",
      "execution_count": null,
      "id": "weighted-cycling",
      "metadata": {
        "id": "weighted-cycling",
        "outputId": "226da135-d7b0-4831-c72a-f6098222d4de"
      },
      "outputs": [
        {
          "data": {
            "text/plain": [
              "array([[[1., 1., 1.],\n",
              "        [1., 1., 1.]],\n",
              "\n",
              "       [[1., 1., 1.],\n",
              "        [1., 1., 1.]],\n",
              "\n",
              "       [[1., 1., 1.],\n",
              "        [1., 1., 1.]],\n",
              "\n",
              "       [[1., 1., 1.],\n",
              "        [1., 1., 1.]]])"
            ]
          },
          "execution_count": 21,
          "metadata": {},
          "output_type": "execute_result"
        }
      ],
      "source": [
        "np.ones(shape=(4,2,3))"
      ]
    },
    {
      "cell_type": "markdown",
      "id": "atlantic-diagram",
      "metadata": {
        "id": "atlantic-diagram"
      },
      "source": [
        "- Let's construct `x1`, a custom 1D array with that contains the counting numbers from 0 to 6."
      ]
    },
    {
      "cell_type": "code",
      "execution_count": null,
      "id": "recorded-mining",
      "metadata": {
        "colab": {
          "base_uri": "https://localhost:8080/"
        },
        "id": "recorded-mining",
        "outputId": "3ef4f12f-5540-4bea-ad9e-c176b814c99b"
      },
      "outputs": [
        {
          "data": {
            "text/plain": [
              "array([0, 1, 2, 3, 4, 5, 6])"
            ]
          },
          "execution_count": 22,
          "metadata": {},
          "output_type": "execute_result"
        }
      ],
      "source": [
        "x1 = np.array([0,1,2,3,4,5,6])\n",
        "x1"
      ]
    },
    {
      "cell_type": "markdown",
      "id": "indoor-burden",
      "metadata": {
        "id": "indoor-burden"
      },
      "source": [
        "- Now, let's construct a custom 2D array `x2` that contains counting numbers from 0 to 15, where each row only has 4 numbers before continuing to the next row."
      ]
    },
    {
      "cell_type": "code",
      "execution_count": null,
      "id": "eastern-arrest",
      "metadata": {
        "colab": {
          "base_uri": "https://localhost:8080/"
        },
        "id": "eastern-arrest",
        "outputId": "9e7b5402-49f4-4af5-c7a8-34fbb529012a"
      },
      "outputs": [
        {
          "data": {
            "text/plain": [
              "array([[ 0,  1,  2,  3],\n",
              "       [ 4,  5,  6,  7],\n",
              "       [ 8,  9, 10, 11],\n",
              "       [12, 13, 14, 15]])"
            ]
          },
          "execution_count": 23,
          "metadata": {},
          "output_type": "execute_result"
        }
      ],
      "source": [
        "x2 = np.array([[0,1,2,3], \n",
        "               [4,5,6,7],\n",
        "               [8,9,10,11],\n",
        "               [12,13,14,15]])\n",
        "x2"
      ]
    },
    {
      "cell_type": "markdown",
      "id": "equivalent-layer",
      "metadata": {
        "id": "equivalent-layer"
      },
      "source": [
        "### Constructing Arrays with `arange` and `linspace`"
      ]
    },
    {
      "cell_type": "markdown",
      "id": "impaired-option",
      "metadata": {
        "id": "impaired-option"
      },
      "source": [
        "- The next two commands we'll study allows us to generate an array without manually inputting the values.\n",
        "- Let's study the use of the arange command in numpy. Here we construct an 1D array of numbers starting from 0 to 1, with an interval of 0.1. Notice how the input follows the format $(a, b, x)$, where $a$ indicates the starting point of the series, $b$ indicates the end of the series plus $x$, and $x$ indicates the value to be added to every term of the series while it is not yet equal to b."
      ]
    },
    {
      "cell_type": "code",
      "execution_count": null,
      "id": "painted-lightning",
      "metadata": {
        "id": "painted-lightning",
        "outputId": "cf2e00f2-2952-4bdf-f2df-a9d4745e8207"
      },
      "outputs": [
        {
          "data": {
            "text/plain": [
              "array([0. , 0.1, 0.2, 0.3, 0.4, 0.5, 0.6, 0.7, 0.8, 0.9, 1. ])"
            ]
          },
          "execution_count": 24,
          "metadata": {},
          "output_type": "execute_result"
        }
      ],
      "source": [
        "np.arange(0, 1.1, 0.1)"
      ]
    },
    {
      "cell_type": "markdown",
      "id": "behind-raise",
      "metadata": {
        "id": "behind-raise"
      },
      "source": [
        "- For linspace, let's construct an 1D array of numbers starting from 0 to 1, with equal intervals evenly spaced into 101 elements.\n",
        "- Notice how the inputs of linspace follow the format $(a, c, y)$, where $a$ is still the starting point of the series, $c$ is the final element of the series, and $y$ is the total number of equally-spaced generated elements."
      ]
    },
    {
      "cell_type": "code",
      "execution_count": null,
      "id": "stylish-mechanism",
      "metadata": {
        "id": "stylish-mechanism",
        "outputId": "d10c9feb-bcae-4b49-d1e6-03b8d406109d"
      },
      "outputs": [
        {
          "data": {
            "text/plain": [
              "array([0.  , 0.01, 0.02, 0.03, 0.04, 0.05, 0.06, 0.07, 0.08, 0.09, 0.1 ,\n",
              "       0.11, 0.12, 0.13, 0.14, 0.15, 0.16, 0.17, 0.18, 0.19, 0.2 , 0.21,\n",
              "       0.22, 0.23, 0.24, 0.25, 0.26, 0.27, 0.28, 0.29, 0.3 , 0.31, 0.32,\n",
              "       0.33, 0.34, 0.35, 0.36, 0.37, 0.38, 0.39, 0.4 , 0.41, 0.42, 0.43,\n",
              "       0.44, 0.45, 0.46, 0.47, 0.48, 0.49, 0.5 , 0.51, 0.52, 0.53, 0.54,\n",
              "       0.55, 0.56, 0.57, 0.58, 0.59, 0.6 , 0.61, 0.62, 0.63, 0.64, 0.65,\n",
              "       0.66, 0.67, 0.68, 0.69, 0.7 , 0.71, 0.72, 0.73, 0.74, 0.75, 0.76,\n",
              "       0.77, 0.78, 0.79, 0.8 , 0.81, 0.82, 0.83, 0.84, 0.85, 0.86, 0.87,\n",
              "       0.88, 0.89, 0.9 , 0.91, 0.92, 0.93, 0.94, 0.95, 0.96, 0.97, 0.98,\n",
              "       0.99, 1.  ])"
            ]
          },
          "execution_count": 25,
          "metadata": {},
          "output_type": "execute_result"
        }
      ],
      "source": [
        "np.linspace(0, 1, 101)"
      ]
    },
    {
      "cell_type": "markdown",
      "id": "basic-breach",
      "metadata": {
        "id": "basic-breach"
      },
      "source": [
        "#### Access array properties"
      ]
    },
    {
      "cell_type": "markdown",
      "id": "athletic-bunny",
      "metadata": {
        "id": "athletic-bunny"
      },
      "source": [
        "- Accessing array properties is important to give us an idea of what type of data we're dealing with, as well as its general size.\n",
        "- We can get the data type of the elements of an array by adding `.dtype` after the name of the array. For this example, let us refer back to array `x2` which contains the counting numbers from 0 to 15.\n",
        "- For the next functions `dtype`, `size`, and `shape`, verify the results with array `x2`constructed earlier."
      ]
    },
    {
      "cell_type": "code",
      "execution_count": null,
      "id": "spatial-pacific",
      "metadata": {
        "id": "spatial-pacific",
        "outputId": "d9b62641-8907-4834-e3d8-a1634348914f"
      },
      "outputs": [
        {
          "data": {
            "text/plain": [
              "dtype('int32')"
            ]
          },
          "execution_count": 26,
          "metadata": {},
          "output_type": "execute_result"
        }
      ],
      "source": [
        "x2.dtype"
      ]
    },
    {
      "cell_type": "markdown",
      "id": "exempt-conservation",
      "metadata": {
        "id": "exempt-conservation"
      },
      "source": [
        "- We can get the total number of elements in an array by adding .size after its name."
      ]
    },
    {
      "cell_type": "code",
      "execution_count": null,
      "id": "lined-sessions",
      "metadata": {
        "id": "lined-sessions",
        "outputId": "6116dd4d-70b1-47b9-d3a6-9e30d7033054"
      },
      "outputs": [
        {
          "data": {
            "text/plain": [
              "16"
            ]
          },
          "execution_count": 27,
          "metadata": {},
          "output_type": "execute_result"
        }
      ],
      "source": [
        "x2.size"
      ]
    },
    {
      "cell_type": "markdown",
      "id": "pending-shelter",
      "metadata": {
        "id": "pending-shelter"
      },
      "source": [
        "- To get the dimensions/shape of our array, add .shape after the name of the array."
      ]
    },
    {
      "cell_type": "code",
      "execution_count": null,
      "id": "express-healing",
      "metadata": {
        "id": "express-healing",
        "outputId": "5bc53e0e-6975-4547-aca8-77f2251cd033"
      },
      "outputs": [
        {
          "data": {
            "text/plain": [
              "(4, 4)"
            ]
          },
          "execution_count": 28,
          "metadata": {},
          "output_type": "execute_result"
        }
      ],
      "source": [
        "x2.shape"
      ]
    },
    {
      "cell_type": "markdown",
      "id": "speaking-inflation",
      "metadata": {
        "id": "speaking-inflation"
      },
      "source": [
        "### 1. Array Indexing"
      ]
    },
    {
      "cell_type": "markdown",
      "id": "talented-jacksonville",
      "metadata": {
        "id": "talented-jacksonville"
      },
      "source": [
        "- Array indexing is important for us to look into specific elements in our data. This will be important for future functions that we will use to examine our data.\n",
        "- First, let us access the first element of our 1D array `x1`. It is simply the 0th element.\n",
        "- For indexing, we use the square brackets `[]` next to the array we want to index and input the number of the ith element we want to select."
      ]
    },
    {
      "cell_type": "code",
      "execution_count": null,
      "id": "uniform-refund",
      "metadata": {
        "id": "uniform-refund",
        "outputId": "a348ba9c-cf04-414f-8dae-a7bd1be836f8"
      },
      "outputs": [
        {
          "data": {
            "text/plain": [
              "array([0, 1, 2, 3, 4, 5, 6])"
            ]
          },
          "execution_count": 29,
          "metadata": {},
          "output_type": "execute_result"
        }
      ],
      "source": [
        "x1"
      ]
    },
    {
      "cell_type": "code",
      "execution_count": null,
      "id": "moral-carroll",
      "metadata": {
        "id": "moral-carroll",
        "outputId": "7b11347b-5b6b-47b1-9ac6-b746b20b48ef"
      },
      "outputs": [
        {
          "data": {
            "text/plain": [
              "0"
            ]
          },
          "execution_count": 30,
          "metadata": {},
          "output_type": "execute_result"
        }
      ],
      "source": [
        "x1[0]"
      ]
    },
    {
      "cell_type": "markdown",
      "id": "functional-coral",
      "metadata": {
        "id": "functional-coral"
      },
      "source": [
        "- Next, let's access the last element of 1D array. Notice how, even if you do not know the size of your array, this is still possible. Simply using the input of -1 gives you the last element."
      ]
    },
    {
      "cell_type": "code",
      "execution_count": null,
      "id": "declared-algeria",
      "metadata": {
        "id": "declared-algeria",
        "outputId": "90f73cfc-b250-4e7f-addc-b44dbcde0f3c"
      },
      "outputs": [
        {
          "data": {
            "text/plain": [
              "6"
            ]
          },
          "execution_count": 31,
          "metadata": {},
          "output_type": "execute_result"
        }
      ],
      "source": [
        "x1[-1]"
      ]
    },
    {
      "cell_type": "markdown",
      "id": "forward-smooth",
      "metadata": {
        "id": "forward-smooth"
      },
      "source": [
        "- Moreover, we access the element of index 3 of a 1D array, as you can do with any element in between the first and last."
      ]
    },
    {
      "cell_type": "code",
      "execution_count": null,
      "id": "south-handbook",
      "metadata": {
        "id": "south-handbook",
        "outputId": "1a5e3c60-a3fc-49aa-b72c-34175b459e77"
      },
      "outputs": [
        {
          "data": {
            "text/plain": [
              "3"
            ]
          },
          "execution_count": 32,
          "metadata": {},
          "output_type": "execute_result"
        }
      ],
      "source": [
        "x1[3]"
      ]
    },
    {
      "cell_type": "markdown",
      "id": "funded-shock",
      "metadata": {
        "id": "funded-shock"
      },
      "source": [
        "- Let's apply what we did earlier to 2D arrays. Notice how the input follows the same format as $(r,c)$, except now it's refering to the element in the $r$th row and $c$th column.\n",
        "- Here, we access the first element of a 2D array."
      ]
    },
    {
      "cell_type": "code",
      "execution_count": null,
      "id": "appointed-payroll",
      "metadata": {
        "id": "appointed-payroll",
        "outputId": "8460316b-951a-46d3-99b3-10fc11daa1b0"
      },
      "outputs": [
        {
          "data": {
            "text/plain": [
              "array([[ 0,  1,  2,  3],\n",
              "       [ 4,  5,  6,  7],\n",
              "       [ 8,  9, 10, 11],\n",
              "       [12, 13, 14, 15]])"
            ]
          },
          "execution_count": 33,
          "metadata": {},
          "output_type": "execute_result"
        }
      ],
      "source": [
        "x2"
      ]
    },
    {
      "cell_type": "code",
      "execution_count": null,
      "id": "necessary-albany",
      "metadata": {
        "id": "necessary-albany",
        "outputId": "f47eaa6c-6ad3-459e-9cf2-60deab7e2199"
      },
      "outputs": [
        {
          "data": {
            "text/plain": [
              "0"
            ]
          },
          "execution_count": 34,
          "metadata": {},
          "output_type": "execute_result"
        }
      ],
      "source": [
        "x2[0,0]"
      ]
    },
    {
      "cell_type": "markdown",
      "id": "present-scientist",
      "metadata": {
        "id": "present-scientist"
      },
      "source": [
        "- Now, we access the last element of a 2D array."
      ]
    },
    {
      "cell_type": "code",
      "execution_count": null,
      "id": "noticed-straight",
      "metadata": {
        "id": "noticed-straight",
        "outputId": "515e1a1e-e8d6-4d38-df1d-c123cd26f01b"
      },
      "outputs": [
        {
          "data": {
            "text/plain": [
              "15"
            ]
          },
          "execution_count": 35,
          "metadata": {},
          "output_type": "execute_result"
        }
      ],
      "source": [
        "x2[-1,-1]"
      ]
    },
    {
      "cell_type": "markdown",
      "id": "sgz1CdZ4JOjf",
      "metadata": {
        "id": "sgz1CdZ4JOjf"
      },
      "source": [
        "- Finally, we access the element in the rth row and cth column, where $r=2$ and $c=3$."
      ]
    },
    {
      "cell_type": "code",
      "execution_count": null,
      "id": "quantitative-bolivia",
      "metadata": {
        "id": "quantitative-bolivia",
        "outputId": "9d37cc2b-b6d2-4040-fb4a-21d67e53a90d"
      },
      "outputs": [
        {
          "data": {
            "text/plain": [
              "11"
            ]
          },
          "execution_count": 36,
          "metadata": {},
          "output_type": "execute_result"
        }
      ],
      "source": [
        "x2[2,3]"
      ]
    },
    {
      "cell_type": "markdown",
      "id": "instant-museum",
      "metadata": {
        "id": "instant-museum"
      },
      "source": [
        "### 2. Array Slicing: Accessing Subarrays"
      ]
    },
    {
      "cell_type": "markdown",
      "id": "described-sector",
      "metadata": {
        "id": "described-sector"
      },
      "source": [
        "#### 1D Arrays"
      ]
    },
    {
      "cell_type": "markdown",
      "id": "eastern-testing",
      "metadata": {
        "id": "eastern-testing"
      },
      "source": [
        "- Array slicing is essentially array indexing except for sets (otherwise called as subarrays) of elements. It serves the same importance as indexing except for groups of data. This can also be used in sampling.\n",
        "- Let's access the first three elements of our 1D array `x1`. Notice how the input as change now, from just a singular input `x` to a range `n:m`, which accesses the elements from element `n` to `m`.\n",
        "- If we are accessing from the first element to any given element `m`, it is sufficient to simply input `:m` to obtain the result subarray.\n",
        "- You can compare the results of `:m` and `n:m` where `n=0` below."
      ]
    },
    {
      "cell_type": "code",
      "execution_count": null,
      "id": "parliamentary-thesis",
      "metadata": {
        "id": "parliamentary-thesis",
        "outputId": "7f7dac85-4b1b-4e29-d764-675b8203c57b"
      },
      "outputs": [
        {
          "data": {
            "text/plain": [
              "array([0, 1, 2])"
            ]
          },
          "execution_count": 37,
          "metadata": {},
          "output_type": "execute_result"
        }
      ],
      "source": [
        "x1[0:3]"
      ]
    },
    {
      "cell_type": "code",
      "execution_count": null,
      "id": "limiting-ministry",
      "metadata": {
        "id": "limiting-ministry",
        "outputId": "772e6948-080f-4935-fc33-b1f32346607c"
      },
      "outputs": [
        {
          "data": {
            "text/plain": [
              "array([0, 1, 2])"
            ]
          },
          "execution_count": 38,
          "metadata": {},
          "output_type": "execute_result"
        }
      ],
      "source": [
        "x1[:3]"
      ]
    },
    {
      "cell_type": "markdown",
      "id": "clinical-memphis",
      "metadata": {
        "id": "clinical-memphis"
      },
      "source": [
        "- Applying the same concept as `:m`, we can get the elements after the nth element all the way to the last element by using the input `n:`. Here, we get the elements after index 3 of our array."
      ]
    },
    {
      "cell_type": "code",
      "execution_count": null,
      "id": "legendary-constant",
      "metadata": {
        "id": "legendary-constant",
        "outputId": "b59e251b-9f45-4287-c05d-4be1a5c051d8"
      },
      "outputs": [
        {
          "data": {
            "text/plain": [
              "array([3, 4, 5, 6])"
            ]
          },
          "execution_count": 39,
          "metadata": {},
          "output_type": "execute_result"
        }
      ],
      "source": [
        "x1[3:]"
      ]
    },
    {
      "cell_type": "markdown",
      "id": "tropical-white",
      "metadata": {
        "id": "tropical-white"
      },
      "source": [
        "- Let's say instead of choosing elements to display, we want to display a subarray given that certain elements are removed. This can be done by adding a negative before the numbers in the range `n:m` or `:m`.\n",
        "- This is `x1` with its last three elements excluded ."
      ]
    },
    {
      "cell_type": "code",
      "execution_count": null,
      "id": "streaming-magnitude",
      "metadata": {
        "id": "streaming-magnitude",
        "outputId": "805df28c-719b-4297-ca05-28a204d2d332"
      },
      "outputs": [
        {
          "data": {
            "text/plain": [
              "array([0, 1, 2, 3])"
            ]
          },
          "execution_count": 40,
          "metadata": {},
          "output_type": "execute_result"
        }
      ],
      "source": [
        "x1[:-3]"
      ]
    },
    {
      "cell_type": "markdown",
      "id": "independent-michigan",
      "metadata": {
        "id": "independent-michigan"
      },
      "source": [
        "- To get the last three elements of an array, we use the same concept as -1 for array indexing but with `-w:` where `w` is the number of elements included in the subarray starting from the last element. "
      ]
    },
    {
      "cell_type": "code",
      "execution_count": null,
      "id": "classical-forestry",
      "metadata": {
        "id": "classical-forestry",
        "outputId": "3837a114-100d-44cb-bc90-5e4712c36bea"
      },
      "outputs": [
        {
          "data": {
            "text/plain": [
              "array([4, 5, 6])"
            ]
          },
          "execution_count": 41,
          "metadata": {},
          "output_type": "execute_result"
        }
      ],
      "source": [
        "x1[-3:]"
      ]
    },
    {
      "cell_type": "markdown",
      "id": "failing-zoning",
      "metadata": {
        "id": "failing-zoning"
      },
      "source": [
        "- Repeating our process for array slicing using `x1[0:3]` wherein we got the 1st to third element, we can get the sub-array of the 5th element to the 7th element by slicing from index 4 up to index 7. "
      ]
    },
    {
      "cell_type": "code",
      "execution_count": null,
      "id": "weighted-safety",
      "metadata": {
        "colab": {
          "base_uri": "https://localhost:8080/"
        },
        "id": "weighted-safety",
        "outputId": "b28567ea-57a5-4664-fd95-f6a5313be6e0"
      },
      "outputs": [
        {
          "data": {
            "text/plain": [
              "array([4, 5, 6])"
            ]
          },
          "execution_count": 42,
          "metadata": {},
          "output_type": "execute_result"
        }
      ],
      "source": [
        "x1[4:7]"
      ]
    },
    {
      "cell_type": "markdown",
      "id": "returning-ethics",
      "metadata": {
        "id": "returning-ethics"
      },
      "source": [
        "- To get your array in reversed order, simply input `::-1` in your square brackets."
      ]
    },
    {
      "cell_type": "code",
      "execution_count": null,
      "id": "electronic-caution",
      "metadata": {
        "id": "electronic-caution",
        "outputId": "0306dc93-0122-4a62-97a0-017908c56eef"
      },
      "outputs": [
        {
          "data": {
            "text/plain": [
              "array([6, 5, 4, 3, 2, 1, 0])"
            ]
          },
          "execution_count": 43,
          "metadata": {},
          "output_type": "execute_result"
        }
      ],
      "source": [
        "x1[::-1]"
      ]
    },
    {
      "cell_type": "markdown",
      "id": "completed-license",
      "metadata": {
        "id": "completed-license"
      },
      "source": [
        "- To access elements at equal intervals i, you input `::i` inside your square brackets.\n",
        "- Let's access every other element in our array `x1` (i.e. `i=2`)."
      ]
    },
    {
      "cell_type": "code",
      "execution_count": null,
      "id": "immediate-keyboard",
      "metadata": {
        "id": "immediate-keyboard",
        "outputId": "775ae96a-8bbc-4304-9e57-75c3d87bef17"
      },
      "outputs": [
        {
          "data": {
            "text/plain": [
              "array([0, 2, 4, 6])"
            ]
          },
          "execution_count": 44,
          "metadata": {},
          "output_type": "execute_result"
        }
      ],
      "source": [
        "x1[::2]"
      ]
    },
    {
      "cell_type": "markdown",
      "id": "professional-notebook",
      "metadata": {
        "id": "professional-notebook"
      },
      "source": [
        "- We can access elements at equal intervals in reverse as well.\n",
        "- For every other element, reversed, we use the code below which combines our knowledge on reversed arrays and accessing every other element."
      ]
    },
    {
      "cell_type": "code",
      "execution_count": null,
      "id": "electric-liver",
      "metadata": {
        "id": "electric-liver",
        "outputId": "95674d0b-5331-4728-8e6c-58f1c4b4034e"
      },
      "outputs": [
        {
          "data": {
            "text/plain": [
              "array([6, 4, 2, 0])"
            ]
          },
          "execution_count": 45,
          "metadata": {},
          "output_type": "execute_result"
        }
      ],
      "source": [
        "x1[::-2]"
      ]
    },
    {
      "cell_type": "markdown",
      "id": "potential-sharp",
      "metadata": {
        "id": "potential-sharp"
      },
      "source": [
        "- You can also give a starting point to your access of elements at equal intervals. This can be done by using the input `j::i`, where `j` is the positon of the `j`th element in the array and `i` is the selection interval.\n",
        "- Starting with index 1, let's access every other element afterwards."
      ]
    },
    {
      "cell_type": "code",
      "execution_count": null,
      "id": "continuing-spectrum",
      "metadata": {
        "id": "continuing-spectrum",
        "outputId": "e3da1ecc-4899-4a4e-cb4b-61fe911cdb6b"
      },
      "outputs": [
        {
          "data": {
            "text/plain": [
              "array([1, 3, 5])"
            ]
          },
          "execution_count": 46,
          "metadata": {},
          "output_type": "execute_result"
        }
      ],
      "source": [
        "x1[1::2]"
      ]
    },
    {
      "cell_type": "markdown",
      "id": "designed-harris",
      "metadata": {
        "id": "designed-harris"
      },
      "source": [
        "- Let's do the same thing but starting with index 5, getting every other element, reversed."
      ]
    },
    {
      "cell_type": "code",
      "execution_count": null,
      "id": "coupled-lewis",
      "metadata": {
        "id": "coupled-lewis",
        "outputId": "db9e44e3-19ab-4455-afa6-a09e932111da"
      },
      "outputs": [
        {
          "data": {
            "text/plain": [
              "array([5, 3, 1])"
            ]
          },
          "execution_count": 47,
          "metadata": {},
          "output_type": "execute_result"
        }
      ],
      "source": [
        "x1[5::-2]"
      ]
    },
    {
      "cell_type": "markdown",
      "id": "received-split",
      "metadata": {
        "id": "received-split"
      },
      "source": [
        "#### Multidimensional Arrays"
      ]
    },
    {
      "cell_type": "code",
      "execution_count": null,
      "id": "beneficial-traffic",
      "metadata": {
        "id": "beneficial-traffic",
        "outputId": "c2c91f0e-9b90-471c-c686-e9715a0e452d"
      },
      "outputs": [
        {
          "data": {
            "text/plain": [
              "array([[ 0,  1,  2,  3],\n",
              "       [ 4,  5,  6,  7],\n",
              "       [ 8,  9, 10, 11],\n",
              "       [12, 13, 14, 15]])"
            ]
          },
          "execution_count": 48,
          "metadata": {},
          "output_type": "execute_result"
        }
      ],
      "source": [
        "x2"
      ]
    },
    {
      "cell_type": "markdown",
      "id": "direct-raising",
      "metadata": {
        "id": "direct-raising"
      },
      "source": [
        "- To get subarrays in 2D arrays, we still follow the format of $(r,c)$. However, now we indicate ranges for our rows and columns that we want to select.\n",
        "- We can get elements starting from first $r=2$ rows and first $c=3$ columns of our array `x2` with the following code."
      ]
    },
    {
      "cell_type": "code",
      "execution_count": null,
      "id": "incorporated-crystal",
      "metadata": {
        "id": "incorporated-crystal",
        "outputId": "3d17a471-26be-4c0b-87e1-d04bfa7149b8"
      },
      "outputs": [
        {
          "data": {
            "text/plain": [
              "array([[0, 1, 2],\n",
              "       [4, 5, 6]])"
            ]
          },
          "execution_count": 49,
          "metadata": {},
          "output_type": "execute_result"
        }
      ],
      "source": [
        "x2[:2,:3]"
      ]
    },
    {
      "cell_type": "markdown",
      "id": "young-commission",
      "metadata": {
        "id": "young-commission"
      },
      "source": [
        "- Now applying our new knowledge on 2D array slicing, let's combine it with our knowledge of accessing at equal intervals $i$, but not for rows and columns.\n",
        "- To get the first two rows of our array, getting only every other column, we use the code below."
      ]
    },
    {
      "cell_type": "code",
      "execution_count": null,
      "id": "another-emphasis",
      "metadata": {
        "id": "another-emphasis",
        "outputId": "f584756a-8d61-4481-f8a7-2f9c9d29ebe2"
      },
      "outputs": [
        {
          "data": {
            "text/plain": [
              "array([[ 0,  2],\n",
              "       [ 4,  6],\n",
              "       [ 8, 10]])"
            ]
          },
          "execution_count": 50,
          "metadata": {},
          "output_type": "execute_result"
        }
      ],
      "source": [
        "x2[:3,::2]"
      ]
    },
    {
      "cell_type": "markdown",
      "id": "another-cause",
      "metadata": {
        "id": "another-cause"
      },
      "source": [
        "- To get every row from 0 to the last row at an interval of 3, only for the first two columns of the array, we use the following code."
      ]
    },
    {
      "cell_type": "code",
      "execution_count": null,
      "id": "received-platform",
      "metadata": {
        "colab": {
          "base_uri": "https://localhost:8080/"
        },
        "id": "received-platform",
        "outputId": "ed23fd1a-8125-4236-de00-1a1826fa0181"
      },
      "outputs": [
        {
          "data": {
            "text/plain": [
              "array([[ 0,  1],\n",
              "       [12, 13]])"
            ]
          },
          "execution_count": 51,
          "metadata": {},
          "output_type": "execute_result"
        }
      ],
      "source": [
        "x2[::3,:2]"
      ]
    },
    {
      "cell_type": "markdown",
      "id": "incoming-sussex",
      "metadata": {
        "id": "incoming-sussex"
      },
      "source": [
        "### End of tutorial.\n",
        "\n",
        "---"
      ]
    },
    {
      "cell_type": "markdown",
      "id": "liable-minnesota",
      "metadata": {
        "id": "liable-minnesota"
      },
      "source": [
        "# Coding Space\n",
        "\n",
        "- Try to implement your own codes based on this week's lesson on the cells below.\n",
        "- Feel free to add more cells and markdowns as you see fit."
      ]
    },
    {
      "cell_type": "code",
      "execution_count": null,
      "id": "focused-escape",
      "metadata": {
        "id": "focused-escape"
      },
      "outputs": [],
      "source": []
    },
    {
      "cell_type": "code",
      "execution_count": null,
      "id": "billion-audio",
      "metadata": {
        "id": "billion-audio"
      },
      "outputs": [],
      "source": []
    },
    {
      "cell_type": "code",
      "execution_count": null,
      "id": "optical-liverpool",
      "metadata": {
        "id": "optical-liverpool"
      },
      "outputs": [],
      "source": []
    }
  ],
  "metadata": {
    "colab": {
      "collapsed_sections": [
        "basic-breach",
        "incoming-sussex",
        "liable-minnesota"
      ],
      "provenance": []
    },
    "kernelspec": {
      "display_name": "Python 3 (ipykernel)",
      "language": "python",
      "name": "python3"
    },
    "language_info": {
      "codemirror_mode": {
        "name": "ipython",
        "version": 3
      },
      "file_extension": ".py",
      "mimetype": "text/x-python",
      "name": "python",
      "nbconvert_exporter": "python",
      "pygments_lexer": "ipython3",
      "version": "3.9.1"
    }
  },
  "nbformat": 4,
  "nbformat_minor": 5
}
