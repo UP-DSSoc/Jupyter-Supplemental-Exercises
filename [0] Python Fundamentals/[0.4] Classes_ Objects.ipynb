{
 "cells": [
  {
   "cell_type": "code",
   "execution_count": 1,
   "id": "2c132863",
   "metadata": {
    "id": "2c132863",
    "outputId": "c9c00f3c-8a16-4e4f-c8f0-0e179bdf8902"
   },
   "outputs": [
    {
     "name": "stdout",
     "output_type": "stream",
     "text": [
      "Python 3.9.1\n"
     ]
    }
   ],
   "source": [
    "!Python --version"
   ]
  },
  {
   "cell_type": "markdown",
   "id": "still-conference",
   "metadata": {
    "id": "still-conference"
   },
   "source": [
    "<img src=\"UP Data Science Society Logo 2.png\" width=700 />"
   ]
  },
  {
   "cell_type": "markdown",
   "id": "1da323bb",
   "metadata": {
    "id": "1da323bb"
   },
   "source": [
    "# [0.4] Advanced Python\n",
    "\n",
    "**Prepared by:**\n",
    "\n",
    "- Lanz Lagman\n",
    "- Dexter To\n",
    "\n",
    "**Topics to cover:** \n",
    "\n",
    "- Classes/ Objects\n",
    "\n",
    "**Weekly Objectives:**\n",
    "\n",
    "- Identify what Python `class` are\n",
    "- Know the purpose of creating classes and objects and apply it using examples\n",
    "\n",
    "\n",
    "**References:**\n",
    "- [(Ivezic, Connolly, Vanderplas, Gray) Statistics, Data Mining, and Machine Learning in Astronomy](https://press.princeton.edu/books/hardcover/9780691198309/statistics-data-mining-and-machine-learning-in-astronomy)\n",
    "- [(Vanderplas) Python Data Science Handbook](https://jakevdp.github.io/PythonDataScienceHandbook/)\n",
    "- [https://www.w3schools.com/python](https://www.w3schools.com/python/python_classes.asp)\n",
    "- [Python Documentation](https://docs.python.org/3/tutorial/classes.html)"
   ]
  },
  {
   "cell_type": "markdown",
   "id": "02710b44",
   "metadata": {
    "id": "02710b44"
   },
   "source": [
    "# I. Python Classes and Objects\n",
    "\n",
    "\n"
   ]
  },
  {
   "cell_type": "markdown",
   "id": "8c38b86a",
   "metadata": {
    "id": "8c38b86a"
   },
   "source": [
    "The simplest form of class definition looks like this:\n",
    "\n",
    "`class ClassName:\n",
    "    <statement-1>\n",
    "    .\n",
    "    .\n",
    "    .\n",
    "    <statement-N>`\n",
    "    \n",
    "Classes creates a new local namespace where all its attributes are defined. Attributes may be data or functions.\n",
    "\n",
    "Example:"
   ]
  },
  {
   "cell_type": "code",
   "execution_count": null,
   "id": "e9e117e6",
   "metadata": {
    "id": "e9e117e6"
   },
   "outputs": [],
   "source": [
    "class MyPets:\n",
    "    \"\"\"A simple example class\"\"\"\n",
    "    cat = \"my pet is a cat\"\n",
    "\n",
    "    def dog():\n",
    "        return ('hello dog')\n",
    "    \n",
    "    "
   ]
  },
  {
   "cell_type": "code",
   "execution_count": null,
   "id": "5eae83ed",
   "metadata": {
    "id": "5eae83ed",
    "outputId": "ffafc02c-6cb4-4fec-8e7c-243e23365bb5"
   },
   "outputs": [
    {
     "name": "stdout",
     "output_type": "stream",
     "text": [
      "my pet is a cat\n"
     ]
    }
   ],
   "source": [
    "print(MyPets.cat)"
   ]
  },
  {
   "cell_type": "code",
   "execution_count": null,
   "id": "0ff92172",
   "metadata": {
    "id": "0ff92172",
    "outputId": "c789101b-a1ef-48de-c74d-2a9e35cdedcc"
   },
   "outputs": [
    {
     "data": {
      "text/plain": [
       "'my pet is a cat'"
      ]
     },
     "execution_count": 4,
     "metadata": {},
     "output_type": "execute_result"
    }
   ],
   "source": [
    "MyPets.cat"
   ]
  },
  {
   "cell_type": "code",
   "execution_count": null,
   "id": "90804028",
   "metadata": {
    "id": "90804028",
    "outputId": "0d82321b-8828-4419-aa09-b45af4409d7d",
    "scrolled": true
   },
   "outputs": [
    {
     "name": "stdout",
     "output_type": "stream",
     "text": [
      "<function MyPets.dog at 0x0000017CA1B24550>\n"
     ]
    }
   ],
   "source": [
    "print(MyPets.dog)"
   ]
  },
  {
   "cell_type": "code",
   "execution_count": null,
   "id": "3d8ebe98",
   "metadata": {
    "id": "3d8ebe98",
    "outputId": "cef78dac-40a5-43b4-b78f-8dc8628eec79"
   },
   "outputs": [
    {
     "data": {
      "text/plain": [
       "<function __main__.MyPets.dog()>"
      ]
     },
     "execution_count": 6,
     "metadata": {},
     "output_type": "execute_result"
    }
   ],
   "source": [
    "MyPets.dog"
   ]
  },
  {
   "cell_type": "markdown",
   "id": "1791555a",
   "metadata": {
    "id": "1791555a"
   },
   "source": [
    "## A. The `__init__`  function\n",
    "\n",
    "- The `__init__`  function is called every time an object is created from a class. The `__init__` method lets the class initialize the object’s attributes and serves no other purpose. It is only used within classes. "
   ]
  },
  {
   "cell_type": "code",
   "execution_count": null,
   "id": "4479923b",
   "metadata": {
    "id": "4479923b"
   },
   "outputs": [],
   "source": [
    "class Complex:\n",
    "     def __init__(self,real,imag):\n",
    "            self.r = real\n",
    "            self.i = imag\n"
   ]
  },
  {
   "cell_type": "markdown",
   "id": "1ac023ef",
   "metadata": {
    "id": "1ac023ef"
   },
   "source": [
    "- Creating an `Object` \n",
    "- Next we’ll create an object, or instance, of the class `Complex`"
   ]
  },
  {
   "cell_type": "code",
   "execution_count": null,
   "id": "5bc5ad90",
   "metadata": {
    "id": "5bc5ad90",
    "scrolled": true
   },
   "outputs": [],
   "source": [
    "x = Complex(10.0, -69)"
   ]
  },
  {
   "cell_type": "markdown",
   "id": "917270db",
   "metadata": {
    "id": "917270db"
   },
   "source": [
    "- To access `Object` Attributes, we use the `.` to call the value needed"
   ]
  },
  {
   "cell_type": "code",
   "execution_count": null,
   "id": "ca0d89e4",
   "metadata": {
    "id": "ca0d89e4",
    "outputId": "d9dd5ff2-69e1-45a7-d2d4-f85cddd13ecc"
   },
   "outputs": [
    {
     "data": {
      "text/plain": [
       "(10.0, -69)"
      ]
     },
     "execution_count": 9,
     "metadata": {},
     "output_type": "execute_result"
    }
   ],
   "source": [
    "x.r, x.i"
   ]
  },
  {
   "cell_type": "markdown",
   "id": "02ce160f",
   "metadata": {
    "id": "02ce160f"
   },
   "source": [
    "- You may have noticed the `self` parameter in `__init__` function definition inside the class but we called the method simply as `x.r` and `x.i` without any arguments. This is because whenever an object calls its method, the object itself is passed as the first argument. \n",
    "\n",
    "- In general, calling a method with a list of n arguments is equivalent to calling the corresponding function with an argument list that is created by inserting the method's object before the first argument.\n",
    "\n",
    "- For these reasons, the first argument of the function in class must be the object itself. This is conventionally called `self`. It can be named otherwise but we highly recommend to follow the convention.\n",
    "\n",
    "Another Example:\n",
    "\n",
    "Suppose we want to store data on out pet cat"
   ]
  },
  {
   "cell_type": "code",
   "execution_count": null,
   "id": "4487c16a",
   "metadata": {
    "id": "4487c16a"
   },
   "outputs": [],
   "source": [
    "class Cat:\n",
    "    \"This is a self made pet Cat class\"\n",
    "    \n",
    "    def __init__(self,age,height,weight):\n",
    "            self.a = age\n",
    "            self.h = height\n",
    "            self.w = weight\n"
   ]
  },
  {
   "cell_type": "code",
   "execution_count": null,
   "id": "98ebc90f",
   "metadata": {
    "id": "98ebc90f"
   },
   "outputs": [],
   "source": [
    "kat=Cat(5,50,2.5)"
   ]
  },
  {
   "cell_type": "code",
   "execution_count": null,
   "id": "77170525",
   "metadata": {
    "id": "77170525",
    "outputId": "a5dcd429-1a0f-4945-d3a3-0ce71fb27249"
   },
   "outputs": [
    {
     "name": "stdout",
     "output_type": "stream",
     "text": [
      "My cat is 5 years old, 50 cm tall and weight 2.5 kilos\n"
     ]
    }
   ],
   "source": [
    "print(f'My cat is {kat.a} years old, {kat.h} cm tall and weight {kat.w} kilos' )"
   ]
  },
  {
   "cell_type": "markdown",
   "id": "0e5255a6",
   "metadata": {
    "id": "0e5255a6"
   },
   "source": [
    "## B. Class and Instance Variables¶\n",
    "\n",
    "- Generally speaking, instance variables are for data unique to each instance and class variables are for attributes and methods shared by all instances of the class:\n",
    "\n"
   ]
  },
  {
   "cell_type": "code",
   "execution_count": null,
   "id": "33c39c13",
   "metadata": {
    "id": "33c39c13"
   },
   "outputs": [],
   "source": [
    "class Dog:\n",
    "    \n",
    "    genus = 'canis' # class variable shared by all instances\n",
    "    \n",
    "    def __init__(self,name): \n",
    "            self.n = name # instance variable unique to each instance\n"
   ]
  },
  {
   "cell_type": "code",
   "execution_count": null,
   "id": "c4b6efbe",
   "metadata": {
    "id": "c4b6efbe",
    "outputId": "8d585ef8-d833-406d-96d4-48c5eab65f9f"
   },
   "outputs": [
    {
     "data": {
      "text/plain": [
       "'canis'"
      ]
     },
     "execution_count": 14,
     "metadata": {},
     "output_type": "execute_result"
    }
   ],
   "source": [
    "dog1=Dog('Cookie')\n",
    "dog2=Dog('Brownie')\n",
    "\n",
    "dog1.genus # shared by all dogs"
   ]
  },
  {
   "cell_type": "code",
   "execution_count": null,
   "id": "83b10b6c",
   "metadata": {
    "id": "83b10b6c",
    "outputId": "e05fd761-712b-4986-9223-6d9949daddab"
   },
   "outputs": [
    {
     "data": {
      "text/plain": [
       "'canis'"
      ]
     },
     "execution_count": 15,
     "metadata": {},
     "output_type": "execute_result"
    }
   ],
   "source": [
    "dog2.genus # shared by all dogs"
   ]
  },
  {
   "cell_type": "code",
   "execution_count": null,
   "id": "5f5b2f81",
   "metadata": {
    "id": "5f5b2f81",
    "outputId": "7d7d9ef3-b1e3-45c4-97d8-8f707d054333"
   },
   "outputs": [
    {
     "data": {
      "text/plain": [
       "'Cookie'"
      ]
     },
     "execution_count": 16,
     "metadata": {},
     "output_type": "execute_result"
    }
   ],
   "source": [
    "dog1.n # for dog1 only"
   ]
  },
  {
   "cell_type": "code",
   "execution_count": null,
   "id": "e235dd70",
   "metadata": {
    "id": "e235dd70",
    "outputId": "4be902d4-1b80-47c8-950b-a9fc04e53598"
   },
   "outputs": [
    {
     "data": {
      "text/plain": [
       "'Brownie'"
      ]
     },
     "execution_count": 17,
     "metadata": {},
     "output_type": "execute_result"
    }
   ],
   "source": [
    "dog2.n # for dog2 only"
   ]
  },
  {
   "cell_type": "markdown",
   "id": "4f436d5d",
   "metadata": {
    "id": "4f436d5d"
   },
   "source": [
    "## C. Adding objects in class"
   ]
  },
  {
   "cell_type": "code",
   "execution_count": null,
   "id": "502f39db",
   "metadata": {
    "id": "502f39db"
   },
   "outputs": [],
   "source": [
    "class SuperDog:\n",
    "       \n",
    "    def __init__(self,name): \n",
    "            self.n = name \n",
    "            self.power = [] # creates a new empty list for each dog\n",
    "            \n",
    "    def add_power(self, power): #creates function for adding items\n",
    "            self.power.append(power) # use append to add item for each dog\n",
    "            \n",
    "dog3 = SuperDog('Whitey')\n",
    "dog4 = SuperDog('Blackie')"
   ]
  },
  {
   "cell_type": "code",
   "execution_count": null,
   "id": "7dd34040",
   "metadata": {
    "id": "7dd34040",
    "outputId": "99d49136-e184-46d5-e51a-6d9dac9b821f"
   },
   "outputs": [
    {
     "data": {
      "text/plain": [
       "[]"
      ]
     },
     "execution_count": 19,
     "metadata": {},
     "output_type": "execute_result"
    }
   ],
   "source": [
    "dog3.power # no added items yet"
   ]
  },
  {
   "cell_type": "code",
   "execution_count": null,
   "id": "2c41c2bf",
   "metadata": {
    "id": "2c41c2bf"
   },
   "outputs": [],
   "source": [
    "dog3.add_power('matakaw')\n",
    "dog4.add_power('maingay')"
   ]
  },
  {
   "cell_type": "code",
   "execution_count": null,
   "id": "ab3a0a19",
   "metadata": {
    "id": "ab3a0a19",
    "outputId": "64d8944f-675d-461f-c479-4c180fc08f52"
   },
   "outputs": [
    {
     "data": {
      "text/plain": [
       "(['matakaw'], ['maingay'])"
      ]
     },
     "execution_count": 21,
     "metadata": {},
     "output_type": "execute_result"
    }
   ],
   "source": [
    "dog3.power , dog4.power # new powers"
   ]
  },
  {
   "cell_type": "code",
   "execution_count": null,
   "id": "f67f62ba",
   "metadata": {
    "id": "f67f62ba",
    "outputId": "360fc774-c6b4-4083-fc33-2d7940ca1cc3"
   },
   "outputs": [
    {
     "name": "stdout",
     "output_type": "stream",
     "text": [
      "{'legs': 2, 'name': 'Dog', 'color': 'Spotted', 'smell': 'Alot', 'age': 10, 'kids': 0}\n"
     ]
    },
    {
     "data": {
      "text/plain": [
       "legs           2\n",
       "name         Dog\n",
       "color    Spotted\n",
       "smell       Alot\n",
       "age           10\n",
       "kids           0\n",
       "dtype: object"
      ]
     },
     "execution_count": 22,
     "metadata": {},
     "output_type": "execute_result"
    }
   ],
   "source": [
    "class Animal: # Create an empty Animal record\n",
    "    pass\n",
    "\n",
    "\n",
    "ani1 = Animal() # Populating the Animal class\n",
    "ani1.legs = 2\n",
    "ani1.name = 'Dog'\n",
    "ani1.color= 'Spotted'\n",
    "ani1.smell= 'Alot'\n",
    "ani1.age  = 10\n",
    "ani1.kids = 0\n",
    "\n",
    "d=vars(ani1)\n",
    "print(d)\n",
    "\n",
    "import pandas as pd\n",
    "df1= pd.Series(d)\n",
    "df1"
   ]
  },
  {
   "cell_type": "markdown",
   "id": "objective-tissue",
   "metadata": {
    "id": "objective-tissue"
   },
   "source": [
    "### End of tutorial.\n",
    "\n",
    "---"
   ]
  },
  {
   "cell_type": "markdown",
   "id": "elder-optimum",
   "metadata": {
    "id": "elder-optimum"
   },
   "source": [
    "# Coding Space\n",
    "\n",
    "- Try to implement your own codes based on this week's lesson on the cells below.\n",
    "- Feel free to add more cells and markdowns as you see fit."
   ]
  },
  {
   "cell_type": "code",
   "execution_count": null,
   "id": "nutritional-jumping",
   "metadata": {
    "id": "nutritional-jumping"
   },
   "outputs": [],
   "source": []
  },
  {
   "cell_type": "code",
   "execution_count": null,
   "id": "structured-adams",
   "metadata": {
    "id": "structured-adams"
   },
   "outputs": [],
   "source": []
  },
  {
   "cell_type": "code",
   "execution_count": null,
   "id": "institutional-differential",
   "metadata": {
    "id": "institutional-differential"
   },
   "outputs": [],
   "source": []
  }
 ],
 "metadata": {
  "colab": {
   "provenance": []
  },
  "kernelspec": {
   "display_name": "Python 3 (ipykernel)",
   "language": "python",
   "name": "python3"
  },
  "language_info": {
   "codemirror_mode": {
    "name": "ipython",
    "version": 3
   },
   "file_extension": ".py",
   "mimetype": "text/x-python",
   "name": "python",
   "nbconvert_exporter": "python",
   "pygments_lexer": "ipython3",
   "version": "3.9.1"
  }
 },
 "nbformat": 4,
 "nbformat_minor": 5
}
